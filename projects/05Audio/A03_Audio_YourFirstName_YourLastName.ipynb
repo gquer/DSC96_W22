{
 "cells": [
  {
   "cell_type": "markdown",
   "metadata": {},
   "source": [
    "# Assignment 03\n",
    "\n",
    "You can choose between the text processing and the audio processing.\n",
    "\n",
    "You should work on both. \n",
    "Then choose one of them and submit it by the deadline (check Canvas)."
   ]
  },
  {
   "cell_type": "code",
   "execution_count": 2,
   "metadata": {},
   "outputs": [],
   "source": [
    "# import packages\n",
    "import numpy as np\n",
    "import pandas as pd\n",
    "import re\n",
    "import matplotlib.pyplot as mpl\n",
    "from scipy.io.wavfile import write\n",
    "from scipy.io.wavfile import read\n",
    "\n",
    "# The 'raw' sound wave -- let's print it\n",
    "def print_wave(signal,n_samples):\n",
    "    fontsizeV = 12\n",
    "    mpl.plot(signal[:n_samples])\n",
    "    mpl.xlabel('Time',fontsize=fontsizeV)\n",
    "    mpl.ylabel('Amplitude',fontsize=fontsizeV)\n",
    "    #mpl.title('Title')\n",
    "    mpl.grid(True)\n",
    "    mpl.tight_layout()"
   ]
  },
  {
   "cell_type": "markdown",
   "metadata": {},
   "source": [
    "## Assignment 02: more examples\n",
    "\n",
    "#### Example 1 of project for assignment 03: Audio processing\n",
    "\n",
    "1) select a brief jingle (few notes)\n",
    "\n",
    "2) create the jingle\n",
    "\n",
    "3) make it sounds pleasent (decay the end of each note, short separation between notes)\n",
    "\n",
    "4) add small noice in the background (white noise, or some noise you have in data/ folder), still making the sounds recognizable\n",
    "\n",
    "5) if you want, you can create a small echo, to make the jingle more interesting :)\n",
    "\n",
    "************\n",
    "#### Example 2 of project for assignment 03: Audio processing\n",
    "\n",
    "1) select one audio recording with a short speech (e.g., data/first_sound.wav or data/my_second_example.wav)\n",
    "\n",
    "2) make the pauses between words shorter (to 0? or to 0.5 seconds?)\n",
    "\n",
    "3) use the library as in udio_modification to recognize words\n",
    "\n",
    "4) modify the audio file, add noise (start with small noise and then increase it): are the words still recognizable by the automatic recognition ? what if you increase it substantially? check data/ folder for noise samples!\n",
    "\n",
    "5) if we add a small echo, is the API still working? try to find the limit for recognizing the words\n",
    "\n",
    "\n",
    "\n",
    "************\n",
    "#### Example 3 of project for assignment 03: Audio + text processing\n",
    "[more complicated, I like it indeed!]\n",
    "\n",
    "1) find an audio file \n",
    "\n",
    "2) get the text out of it with tautomatic recognition as in example 2\n",
    "\n",
    "3) process the text (with the techniques seen in text processing) of your favourite songs"
   ]
  },
  {
   "cell_type": "markdown",
   "metadata": {},
   "source": [
    "# Project title: \n",
    "\n",
    "your comments / presentation\n"
   ]
  },
  {
   "cell_type": "code",
   "execution_count": null,
   "metadata": {},
   "outputs": [],
   "source": [
    "# your code"
   ]
  }
 ],
 "metadata": {
  "kernelspec": {
   "display_name": "Python 3",
   "language": "python",
   "name": "python3"
  },
  "language_info": {
   "codemirror_mode": {
    "name": "ipython",
    "version": 3
   },
   "file_extension": ".py",
   "mimetype": "text/x-python",
   "name": "python",
   "nbconvert_exporter": "python",
   "pygments_lexer": "ipython3",
   "version": "3.8.5"
  }
 },
 "nbformat": 4,
 "nbformat_minor": 1
}
