{
 "cells": [
  {
   "cell_type": "markdown",
   "metadata": {},
   "source": [
    "# Assignment 05\n",
    "\n",
    "This is the second part of the assignment (last assignment!).\n",
    "\n",
    "Submission by: see Canvas"
   ]
  },
  {
   "cell_type": "code",
   "execution_count": 3,
   "metadata": {},
   "outputs": [],
   "source": [
    "# import packages\n",
    "import numpy as np\n",
    "import pandas as pd\n",
    "import re\n",
    "import matplotlib.pyplot as mpl"
   ]
  },
  {
   "cell_type": "markdown",
   "metadata": {},
   "source": [
    "## Assignment 05: Images (open ended)\n",
    "\n",
    "#### Choose your image (or set of images)\n",
    "\n",
    "1) choose an underexposed (low light) image online (search on google \"low light\" or \"underexposed\")\n",
    "\n",
    "2) check if you can access the page and process it! if not, do not use it\n",
    "\n",
    "3) get the image with urlib\n",
    "\n",
    "************\n",
    "#### Compress the image\n",
    "\n",
    "1) first of all, just make the image smaller (at least 4 times smaller)\n",
    "\n",
    "\n",
    "************\n",
    "#### Fix the image\n",
    "\n",
    "1) check the image RGB components: print_RGB_histogram\n",
    "\n",
    "2) write down (in words) what you want to do to fix the image\n",
    "\n",
    "3) get the image in numpy\n",
    "\n",
    "4) fix the image\n",
    "\n",
    "5) display the image\n",
    "\n",
    "************\n",
    "#### Optional: more on filter\n",
    "\n",
    "1) change the color components (more green, more red, or less blue, your choice)\n",
    "\n",
    "************\n",
    "#### Optional: more on filter\n",
    "\n",
    "1) apply one of the filter to make the image blurry (see the presentation for W9 L17)"
   ]
  },
  {
   "cell_type": "code",
   "execution_count": 4,
   "metadata": {},
   "outputs": [],
   "source": [
    "# your code HERE!"
   ]
  },
  {
   "cell_type": "code",
   "execution_count": null,
   "metadata": {},
   "outputs": [],
   "source": []
  }
 ],
 "metadata": {
  "kernelspec": {
   "display_name": "Python 3",
   "language": "python",
   "name": "python3"
  },
  "language_info": {
   "codemirror_mode": {
    "name": "ipython",
    "version": 3
   },
   "file_extension": ".py",
   "mimetype": "text/x-python",
   "name": "python",
   "nbconvert_exporter": "python",
   "pygments_lexer": "ipython3",
   "version": "3.8.5"
  }
 },
 "nbformat": 4,
 "nbformat_minor": 1
}
