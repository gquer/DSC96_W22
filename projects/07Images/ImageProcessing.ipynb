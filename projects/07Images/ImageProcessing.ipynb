{
 "cells": [
  {
   "cell_type": "markdown",
   "metadata": {},
   "source": [
    "# Introduction to Image Processing\n",
    "\n",
    "\n",
    "### Description\n",
    "\n",
    "An image is represented as a matrix of pixels, where each pixel is a number from 0 to 255 (for a b/w image).\n",
    "\n",
    "A colored image is composed of three matrices, for Red Green and Blue (RGB). \n",
    "\n",
    "In this project we will use `Pillow` (a fork of the Python Image Library) to open an image, which will be represented by a matrix in `numpy`: we can then manipulate in the way we want!\\\n",
    "\n",
    "\n",
    "### Note\n",
    "\n",
    "This notebook uses [pillow](https://pillow.readthedocs.io/en/latest/).  It should already be installed in your environment, but if not you can install it:\n",
    "```\n",
    "! pip install Pillow\n",
    "```\n",
    "\n",
    "### References\n",
    "\n",
    "* http://paulbourke.net/dataformats/bitmaps/"
   ]
  },
  {
   "cell_type": "markdown",
   "metadata": {},
   "source": [
    "## Step 1: Open and Display"
   ]
  },
  {
   "cell_type": "code",
   "execution_count": null,
   "metadata": {},
   "outputs": [],
   "source": [
    "from PIL import Image\n",
    "from PIL import ImageFilter\n",
    "import numpy as np"
   ]
  },
  {
   "cell_type": "code",
   "execution_count": null,
   "metadata": {},
   "outputs": [],
   "source": [
    "#let's open an image:\n",
    "image = Image.open(\"data/HDSI.png\")\n",
    "\n",
    "# and let's visualize it:\n",
    "display(image)"
   ]
  },
  {
   "cell_type": "code",
   "execution_count": null,
   "metadata": {},
   "outputs": [],
   "source": [
    "# that is great, but let's start from the beginning\n",
    "# let's begin with a BW image, where each pixel is represente dby 1 number\n",
    "image = Image.open(\"data/testBW.bmp\")\n",
    "display(image)"
   ]
  },
  {
   "cell_type": "code",
   "execution_count": null,
   "metadata": {},
   "outputs": [],
   "source": [
    "# this is too small, let's see its dimensions in pixels\n",
    "image.size"
   ]
  },
  {
   "cell_type": "code",
   "execution_count": null,
   "metadata": {},
   "outputs": [],
   "source": [
    "# let's just try to plot it larger\n",
    "\n",
    "# this function prints a larger version of the image!\n",
    "def printLargeImage(smallImage):\n",
    "    maxsize = tuple([50*x for x in smallImage.size])\n",
    "    largeImage = smallImage.resize(maxsize, Image.BOX)\n",
    "    display(largeImage)\n",
    "    return"
   ]
  },
  {
   "cell_type": "code",
   "execution_count": null,
   "metadata": {},
   "outputs": [],
   "source": [
    "printLargeImage(image)"
   ]
  },
  {
   "cell_type": "code",
   "execution_count": null,
   "metadata": {},
   "outputs": [],
   "source": [
    "# now we want to modify the image! \n",
    "\n",
    "# first, let's read the image as a numpy array \n",
    "im_array = np.array(image)\n",
    "\n",
    "im_array"
   ]
  },
  {
   "cell_type": "code",
   "execution_count": null,
   "metadata": {},
   "outputs": [],
   "source": [
    "# this looks clear right? every pixel is a number (uint8) with max value 255 (WHITE) and min value 0 (BLACK)\n",
    "\n",
    "# 1. let's get rid of the big black square on the top right, let's color it of light grey!\n",
    "\n",
    "# *******************\n",
    "# YOUR CODE HERE...\n",
    "im_array_2 = ...\n",
    "\n",
    "# \n",
    "image2 = Image.fromarray(im_array_2)\n",
    "printLargeImage(image2)\n",
    "\n",
    "# we can also save it if we want:\n",
    "# image2.save('data/testBW.bmp')\n"
   ]
  },
  {
   "cell_type": "markdown",
   "metadata": {},
   "source": [
    "## Step 2: Image with colors"
   ]
  },
  {
   "cell_type": "markdown",
   "metadata": {},
   "source": [
    "Ok we have seen how to deal with a small greyscale picture, what about colors?"
   ]
  },
  {
   "cell_type": "code",
   "execution_count": null,
   "metadata": {},
   "outputs": [],
   "source": [
    "# let's look at an image with colors\n",
    "image = Image.open(\"data/test.bmp\")\n",
    "display(image)"
   ]
  },
  {
   "cell_type": "code",
   "execution_count": null,
   "metadata": {},
   "outputs": [],
   "source": [
    "printLargeImage(image)"
   ]
  },
  {
   "cell_type": "code",
   "execution_count": null,
   "metadata": {},
   "outputs": [],
   "source": [
    "# let's look at how is the image in numpy\n",
    "im_array = np.array(image)\n",
    "im_array"
   ]
  },
  {
   "cell_type": "code",
   "execution_count": null,
   "metadata": {},
   "outputs": [],
   "source": [
    "#umm, it has three dimensions now\n",
    "\n",
    "#let's try to see the same format as before:\n",
    "im_array[:,:,0]"
   ]
  },
  {
   "cell_type": "code",
   "execution_count": null,
   "metadata": {},
   "outputs": [],
   "source": [
    "im_array[:,:,1]"
   ]
  },
  {
   "cell_type": "code",
   "execution_count": null,
   "metadata": {},
   "outputs": [],
   "source": [
    "im_array[:,:,2]"
   ]
  },
  {
   "cell_type": "code",
   "execution_count": null,
   "metadata": {},
   "outputs": [],
   "source": [
    "# we have just visualized the three planes of the image! \n",
    "# these are referred to RGB:\n",
    "# Red: im_array[:,:,0] \n",
    "# Green: im_array[:,:,1] \n",
    "# Blue: im_array[:,:,2] \n",
    "\n",
    "# 2. let's get read of the red line in the figure, \n",
    "# and let's make it a solid blue!\n",
    "\n",
    "# *******************\n",
    "# YOUR CODE HERE...  \n"
   ]
  },
  {
   "cell_type": "code",
   "execution_count": null,
   "metadata": {},
   "outputs": [],
   "source": []
  },
  {
   "cell_type": "markdown",
   "metadata": {},
   "source": [
    "## Step 3: Crop, rotate, change colors!\n",
    "\n",
    "If you are interested, you can review [Pillow documentation](https://pillow.readthedocs.io/en/latest/).  There are lots of fun things like making thumbnails, rotating, filters, cropping, layering, etc. This is an easy tutorial with some code ready to be used: [Pillow Tutorial](https://pillow.readthedocs.io/en/stable/handbook/tutorial.html)."
   ]
  },
  {
   "cell_type": "code",
   "execution_count": null,
   "metadata": {},
   "outputs": [],
   "source": [
    "# as an example, let's try with our first small image\n",
    "\n",
    "print('Original:')\n",
    "printLargeImage(image)"
   ]
  },
  {
   "cell_type": "code",
   "execution_count": null,
   "metadata": {},
   "outputs": [],
   "source": [
    "# crop the image:\n",
    "box = (1, 0, 3, 3) # coordinates: (left, top, right, bottom)\n",
    "image_cropped = image.crop(box)\n",
    "print('Image cropped:')\n",
    "printLargeImage(image_cropped)"
   ]
  },
  {
   "cell_type": "code",
   "execution_count": null,
   "metadata": {},
   "outputs": [],
   "source": [
    "import copy"
   ]
  },
  {
   "cell_type": "code",
   "execution_count": null,
   "metadata": {},
   "outputs": [],
   "source": [
    "# rotate part of the image!\n",
    "image_cropped = image_cropped.transpose(Image.ROTATE_180)\n",
    "image2 = copy.deepcopy(image)\n",
    "image2.paste(image_cropped, box)\n",
    "print('Rotating the cropped:')\n",
    "printLargeImage(image2)"
   ]
  },
  {
   "cell_type": "code",
   "execution_count": null,
   "metadata": {},
   "outputs": [],
   "source": [
    "# let's mess up the image: I want to change the color intensity, swapping red and green\n",
    "r, g, b = image2.split()\n",
    "temp = Image.merge(\"RGB\", (g, r, b))\n",
    "print('Color messed up:')\n",
    "printLargeImage(temp)"
   ]
  },
  {
   "cell_type": "code",
   "execution_count": null,
   "metadata": {},
   "outputs": [],
   "source": [
    "# the function before was not super useful... let's make the colors look darker!\n",
    "im_array = np.array(image)\n",
    "\n",
    "im_array_dark = im_array/2 # I make all colors much closer to black\n",
    "im_array_dark = im_array_dark.astype('uint8') # each pixel still needs to be between 0 and 255 (PAY ATTENTION TO IT)\n",
    "\n",
    "imageDark = Image.fromarray(im_array_dark)\n",
    "\n",
    "print('Original Image:')\n",
    "printLargeImage(image)\n",
    "\n",
    "print('Image Dark:')\n",
    "printLargeImage(imageDark)"
   ]
  },
  {
   "cell_type": "markdown",
   "metadata": {},
   "source": [
    "## Step 4: Fix the Bear Image!"
   ]
  },
  {
   "cell_type": "code",
   "execution_count": null,
   "metadata": {},
   "outputs": [],
   "source": [
    "# Let's fix the bear image\n",
    "bear = Image.open('data/bear.jpg')\n",
    "display(bear)"
   ]
  },
  {
   "cell_type": "code",
   "execution_count": null,
   "metadata": {},
   "outputs": [],
   "source": [
    "# 4.1 We need to make the bear image look... good!\n",
    "\n",
    "# use all the tools you learned before\n",
    "\n",
    "# remember: each pixel MUST be of type 'uint8' with max value 255\n",
    "\n",
    "# *******************\n",
    "# YOUR CODE HERE...  \n",
    "\n",
    "np.array(bear)"
   ]
  },
  {
   "cell_type": "code",
   "execution_count": null,
   "metadata": {},
   "outputs": [],
   "source": [
    "# 4.2 let's now apply a RED filter (make the image RED)\n",
    "\n",
    "# *******************\n",
    "# YOUR CODE HERE...  "
   ]
  },
  {
   "cell_type": "code",
   "execution_count": null,
   "metadata": {},
   "outputs": [],
   "source": [
    "# 4.3 let's take the best version of the bear image you can get... we want to keep it as and RGB image, \n",
    "# so same format, but I want to modify it such that it looks BW... how can we do it?\n",
    "\n",
    "# *******************\n",
    "# YOUR CODE HERE...  "
   ]
  },
  {
   "cell_type": "code",
   "execution_count": null,
   "metadata": {},
   "outputs": [],
   "source": [
    "# 4.4 we have also a very bright image of the bear:\n",
    "\n",
    "# Can we fix it?\n",
    "bear = Image.open('data/bear_BRIGHT.jpg')\n",
    "display(bear)"
   ]
  },
  {
   "cell_type": "code",
   "execution_count": null,
   "metadata": {},
   "outputs": [],
   "source": []
  },
  {
   "cell_type": "code",
   "execution_count": null,
   "metadata": {},
   "outputs": [],
   "source": []
  },
  {
   "cell_type": "code",
   "execution_count": null,
   "metadata": {},
   "outputs": [],
   "source": []
  },
  {
   "cell_type": "code",
   "execution_count": null,
   "metadata": {},
   "outputs": [],
   "source": []
  },
  {
   "cell_type": "code",
   "execution_count": null,
   "metadata": {},
   "outputs": [],
   "source": []
  },
  {
   "cell_type": "code",
   "execution_count": null,
   "metadata": {},
   "outputs": [],
   "source": []
  },
  {
   "cell_type": "code",
   "execution_count": null,
   "metadata": {},
   "outputs": [],
   "source": []
  }
 ],
 "metadata": {
  "kernelspec": {
   "display_name": "Python 3",
   "language": "python",
   "name": "python3"
  },
  "language_info": {
   "codemirror_mode": {
    "name": "ipython",
    "version": 3
   },
   "file_extension": ".py",
   "mimetype": "text/x-python",
   "name": "python",
   "nbconvert_exporter": "python",
   "pygments_lexer": "ipython3",
   "version": "3.8.5"
  }
 },
 "nbformat": 4,
 "nbformat_minor": 2
}
