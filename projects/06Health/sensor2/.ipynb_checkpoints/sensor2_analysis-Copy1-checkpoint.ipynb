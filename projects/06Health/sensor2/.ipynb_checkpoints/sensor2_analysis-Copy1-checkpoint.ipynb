{
 "cells": [
  {
   "cell_type": "code",
   "execution_count": null,
   "metadata": {
    "collapsed": true
   },
   "outputs": [],
   "source": [
    "import json\n",
    "import pandas as pd\n",
    "import numpy as np\n",
    "import matplotlib as mpl\n",
    "\n",
    "# let's import our file for the analysis:\n",
    "json_file = './data/sensor2_sleep.json'\n",
    "\n",
    "with open(json_file, 'r') as infile:\n",
    "  json_data = json.load(infile)"
   ]
  },
  {
   "cell_type": "code",
   "execution_count": null,
   "metadata": {
    "collapsed": true
   },
   "outputs": [],
   "source": [
    "# what is this file?\n",
    "json_data"
   ]
  },
  {
   "cell_type": "code",
   "execution_count": null,
   "metadata": {
    "collapsed": true
   },
   "outputs": [],
   "source": [
    "# let's see what elements do we have in the dictionary\n",
    "for element in json_data:\n",
    "  print(element)"
   ]
  },
  {
   "cell_type": "code",
   "execution_count": null,
   "metadata": {
    "collapsed": true
   },
   "outputs": [],
   "source": [
    "# we are interested in sleep! let's focus on that\n",
    "type(json_data['sleep'])"
   ]
  },
  {
   "cell_type": "code",
   "execution_count": null,
   "metadata": {
    "collapsed": true
   },
   "outputs": [],
   "source": [
    "# let's find the element related to the day of interest! do we have one element per day?\n",
    "\n",
    "# 1. let's find how many days are there\n",
    "\n",
    "# -- write your code --"
   ]
  },
  {
   "cell_type": "code",
   "execution_count": null,
   "metadata": {
    "collapsed": true
   },
   "outputs": [],
   "source": [
    "# 2. let's find the index of the day of interest; for each day, let's print dateOfSleep , so we will know \n",
    "# which element to use (the night is between 15 and 16 of Jan 2020)\n",
    "\n",
    "# -- write your code --\n"
   ]
  },
  {
   "cell_type": "code",
   "execution_count": null,
   "metadata": {
    "collapsed": true
   },
   "outputs": [],
   "source": [
    "# 3. let's find the time the participant went to bed\n",
    "night_index = # put here the day you have chosen\n",
    "json_data['sleep'][night_index]['startTime']\n",
    "print('Night starts at: '+json_data['sleep'][night_index]['startTime'])\n",
    "print('Night end at: '+json_data['sleep'][night_index]['endTime'])"
   ]
  },
  {
   "cell_type": "code",
   "execution_count": null,
   "metadata": {
    "collapsed": true
   },
   "outputs": [],
   "source": [
    "# 4. total time in bed: put the total time spent in bed by the participant (calculate it manually)\n",
    "\n",
    "# -- write your code --"
   ]
  },
  {
   "cell_type": "code",
   "execution_count": null,
   "metadata": {
    "collapsed": true
   },
   "outputs": [],
   "source": [
    "# 5. let's extract the hypnogram !\n",
    "# the code is written for you, but verify step by step what is happening (add comments)!\n",
    "\n",
    "from datetime import datetime\n",
    "import time\n",
    "\n",
    "#'1' = deep (N3) sleep - '2' = light (N1 or N2) sleep - '3' = REM sleep - '4' = awake\n",
    "dic_sleep = {'wake':4 , 'deep':1, 'light':2 , 'rem':3}\n",
    "\n",
    "n_sleep_logs = len(json_data['sleep'][night_index]['levels']['data'])\n",
    "\n",
    "# total n of intervals (30 min each)\n",
    "total_n_intervals = 7*60*2 + (26+16)*2 +1\n",
    "\n",
    "# array of sleep status: from 11pm to 6am (420 minutes)\n",
    "hypno = np.zeros(total_n_intervals)\n",
    "\n",
    "time_start = datetime.strptime('2020-01-15T22:34:00.000', '%Y-%m-%dT%H:%M:%S.%f')\n",
    "\n",
    "current_sample = 0\n",
    "for ind in range(n_sleep_logs):\n",
    "  n_samples_sleep_log = int(json_data['sleep'][night_index]['levels']['data'][ind]['seconds']/30)\n",
    "  sleep_recorded = json_data['sleep'][night_index]['levels']['data'][ind]['level']\n",
    "  hypno[current_sample:current_sample+n_samples_sleep_log] = dic_sleep[sleep_recorded]\n",
    "  current_sample = current_sample+n_samples_sleep_log"
   ]
  },
  {
   "cell_type": "code",
   "execution_count": null,
   "metadata": {
    "collapsed": true
   },
   "outputs": [],
   "source": [
    "# 6. let's verify hypnogram is the right length\n",
    "len(hypno)"
   ]
  },
  {
   "cell_type": "code",
   "execution_count": null,
   "metadata": {
    "collapsed": true
   },
   "outputs": [],
   "source": [
    "# 7. let's write down the hypnogram to export,\n",
    "# we need to write the phase of sleep (from 1 to 4) from 11:00pm to 6:00am , with sleep phase for each 30 seconds\n",
    "total_number_30sec_int = 7*60*2\n",
    "\n",
    "df = pd.DataFrame(columns = ['IndexTime','SleepPhase'])\n",
    "df['IndexTime'] = range(total_number_30sec_int)\n",
    "\n",
    "# let's cut the first and last 30-sec-intervals of hypno (outside the range of interest)\n",
    "intervals_before_11pm = # -- calculate it manually (how many 30 sec intervals should we cut?)\n",
    "intervals_after_6am = # -- calculate it manually (how many 30 sec intervals should we cut?)\n",
    "\n",
    "# let's cut the first and last values of hypno (outside the range of interest)\n",
    "df['SleepPhase'] = hypno[intervals_before_11pm:-(intervals_after_6am)]"
   ]
  },
  {
   "cell_type": "code",
   "execution_count": null,
   "metadata": {
    "collapsed": true
   },
   "outputs": [],
   "source": [
    "# 8. let's save the final csv file\n",
    "df.to_csv('sensor_2_output.csv', index=False)"
   ]
  },
  {
   "cell_type": "code",
   "execution_count": null,
   "metadata": {
    "collapsed": true
   },
   "outputs": [],
   "source": [
    "# 9. let's calculate amount of sleep per phase\n",
    "# in number of intervals\n",
    "# in percentage over the 7 hours of analysis\n",
    "\n",
    "# -- write your code --\n"
   ]
  },
  {
   "cell_type": "code",
   "execution_count": null,
   "metadata": {
    "collapsed": true
   },
   "outputs": [],
   "source": [
    "# 10. let's print the hypnogram! \n",
    "\n",
    "def plot_hypno(signal): #,color\n",
    "  x = np.arange(len(signal))\n",
    "  y = signal\n",
    "  \n",
    "  fontsizeV = 12\n",
    "  mpl.plot(x,y) #color=color\n",
    "  mpl.xlabel('Time (30sec intervals)',fontsize=fontsizeV)\n",
    "  mpl.ylabel('Sleep phase',fontsize=fontsizeV)\n",
    "  mpl.yticks([1,2,3,4])\n",
    "  mpl.title('1=deep(N3), 2=light(N1=N2), 3=REM, 4=awake')\n",
    "  mpl.grid(True)\n",
    "  mpl.tight_layout()\n",
    "  \n",
    "# -- write your code --"
   ]
  },
  {
   "cell_type": "code",
   "execution_count": null,
   "metadata": {
    "collapsed": true
   },
   "outputs": [],
   "source": []
  },
  {
   "cell_type": "code",
   "execution_count": null,
   "metadata": {
    "collapsed": true
   },
   "outputs": [],
   "source": []
  },
  {
   "cell_type": "code",
   "execution_count": 6,
   "metadata": {
    "collapsed": true
   },
   "outputs": [],
   "source": [
    "import pandas as pd\n",
    "import numpy as np\n",
    "hypno_RAND = pd.read_csv('../sensor1/sensor_RAND_output.csv')\n"
   ]
  },
  {
   "cell_type": "code",
   "execution_count": 7,
   "metadata": {},
   "outputs": [
    {
     "data": {
      "text/html": [
       "<div>\n",
       "<style scoped>\n",
       "    .dataframe tbody tr th:only-of-type {\n",
       "        vertical-align: middle;\n",
       "    }\n",
       "\n",
       "    .dataframe tbody tr th {\n",
       "        vertical-align: top;\n",
       "    }\n",
       "\n",
       "    .dataframe thead th {\n",
       "        text-align: right;\n",
       "    }\n",
       "</style>\n",
       "<table border=\"1\" class=\"dataframe\">\n",
       "  <thead>\n",
       "    <tr style=\"text-align: right;\">\n",
       "      <th></th>\n",
       "      <th>IndexTime</th>\n",
       "      <th>SleepPhase</th>\n",
       "    </tr>\n",
       "  </thead>\n",
       "  <tbody>\n",
       "    <tr>\n",
       "      <td>0</td>\n",
       "      <td>0</td>\n",
       "      <td>3</td>\n",
       "    </tr>\n",
       "    <tr>\n",
       "      <td>1</td>\n",
       "      <td>1</td>\n",
       "      <td>2</td>\n",
       "    </tr>\n",
       "    <tr>\n",
       "      <td>2</td>\n",
       "      <td>2</td>\n",
       "      <td>2</td>\n",
       "    </tr>\n",
       "    <tr>\n",
       "      <td>3</td>\n",
       "      <td>3</td>\n",
       "      <td>2</td>\n",
       "    </tr>\n",
       "    <tr>\n",
       "      <td>4</td>\n",
       "      <td>4</td>\n",
       "      <td>4</td>\n",
       "    </tr>\n",
       "    <tr>\n",
       "      <td>...</td>\n",
       "      <td>...</td>\n",
       "      <td>...</td>\n",
       "    </tr>\n",
       "    <tr>\n",
       "      <td>835</td>\n",
       "      <td>835</td>\n",
       "      <td>3</td>\n",
       "    </tr>\n",
       "    <tr>\n",
       "      <td>836</td>\n",
       "      <td>836</td>\n",
       "      <td>4</td>\n",
       "    </tr>\n",
       "    <tr>\n",
       "      <td>837</td>\n",
       "      <td>837</td>\n",
       "      <td>1</td>\n",
       "    </tr>\n",
       "    <tr>\n",
       "      <td>838</td>\n",
       "      <td>838</td>\n",
       "      <td>1</td>\n",
       "    </tr>\n",
       "    <tr>\n",
       "      <td>839</td>\n",
       "      <td>839</td>\n",
       "      <td>1</td>\n",
       "    </tr>\n",
       "  </tbody>\n",
       "</table>\n",
       "<p>840 rows × 2 columns</p>\n",
       "</div>"
      ],
      "text/plain": [
       "     IndexTime  SleepPhase\n",
       "0            0           3\n",
       "1            1           2\n",
       "2            2           2\n",
       "3            3           2\n",
       "4            4           4\n",
       "..         ...         ...\n",
       "835        835           3\n",
       "836        836           4\n",
       "837        837           1\n",
       "838        838           1\n",
       "839        839           1\n",
       "\n",
       "[840 rows x 2 columns]"
      ]
     },
     "execution_count": 7,
     "metadata": {},
     "output_type": "execute_result"
    }
   ],
   "source": [
    "hypno_RAND"
   ]
  },
  {
   "cell_type": "code",
   "execution_count": null,
   "metadata": {
    "collapsed": true
   },
   "outputs": [],
   "source": []
  }
 ],
 "metadata": {
  "kernelspec": {
   "display_name": "Python [conda env:py37]",
   "language": "python",
   "name": "conda-env-py37-py"
  },
  "language_info": {
   "codemirror_mode": {
    "name": "ipython",
    "version": 3
   },
   "file_extension": ".py",
   "mimetype": "text/x-python",
   "name": "python",
   "nbconvert_exporter": "python",
   "pygments_lexer": "ipython3",
   "version": "3.7.4"
  }
 },
 "nbformat": 4,
 "nbformat_minor": 2
}
