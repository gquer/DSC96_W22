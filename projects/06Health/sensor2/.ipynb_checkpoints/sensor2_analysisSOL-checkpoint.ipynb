{
 "cells": [
  {
   "cell_type": "code",
   "execution_count": 1,
   "metadata": {},
   "outputs": [],
   "source": [
    "import json\n",
    "import pandas as pd\n",
    "import numpy as np\n",
    "import matplotlib.pyplot as mpl\n",
    "\n",
    "# let's import our file for the analysis:\n",
    "json_file = './data/sensor2_sleep.json'\n",
    "\n",
    "with open(json_file, 'r') as infile:\n",
    "  json_data = json.load(infile)"
   ]
  },
  {
   "cell_type": "code",
   "execution_count": 2,
   "metadata": {},
   "outputs": [
    {
     "data": {
      "text/plain": [
       "{'sleep': [{'dateOfSleep': '2020-01-17',\n",
       "   'duration': 29460000,\n",
       "   'efficiency': 96,\n",
       "   'endTime': '2020-01-17T07:20:30.000',\n",
       "   'infoCode': 0,\n",
       "   'isMainSleep': True,\n",
       "   'levels': {'data': [{'dateTime': '2020-01-16T23:09:30.000',\n",
       "      'level': 'wake',\n",
       "      'seconds': 570},\n",
       "     {'dateTime': '2020-01-16T23:19:00.000',\n",
       "      'level': 'light',\n",
       "      'seconds': 1200},\n",
       "     {'dateTime': '2020-01-16T23:39:00.000', 'level': 'deep', 'seconds': 1650},\n",
       "     {'dateTime': '2020-01-17T00:06:30.000', 'level': 'light', 'seconds': 360},\n",
       "     {'dateTime': '2020-01-17T00:12:30.000', 'level': 'rem', 'seconds': 300},\n",
       "     {'dateTime': '2020-01-17T00:17:30.000',\n",
       "      'level': 'light',\n",
       "      'seconds': 1320},\n",
       "     {'dateTime': '2020-01-17T00:39:30.000', 'level': 'deep', 'seconds': 1770},\n",
       "     {'dateTime': '2020-01-17T01:09:00.000',\n",
       "      'level': 'light',\n",
       "      'seconds': 1920},\n",
       "     {'dateTime': '2020-01-17T01:41:00.000', 'level': 'rem', 'seconds': 930},\n",
       "     {'dateTime': '2020-01-17T01:56:30.000',\n",
       "      'level': 'light',\n",
       "      'seconds': 1440},\n",
       "     {'dateTime': '2020-01-17T02:20:30.000', 'level': 'deep', 'seconds': 2190},\n",
       "     {'dateTime': '2020-01-17T02:57:00.000', 'level': 'light', 'seconds': 810},\n",
       "     {'dateTime': '2020-01-17T03:10:30.000', 'level': 'rem', 'seconds': 1320},\n",
       "     {'dateTime': '2020-01-17T03:32:30.000',\n",
       "      'level': 'light',\n",
       "      'seconds': 1110},\n",
       "     {'dateTime': '2020-01-17T03:51:00.000', 'level': 'deep', 'seconds': 420},\n",
       "     {'dateTime': '2020-01-17T03:58:00.000',\n",
       "      'level': 'light',\n",
       "      'seconds': 1740},\n",
       "     {'dateTime': '2020-01-17T04:27:00.000', 'level': 'rem', 'seconds': 3270},\n",
       "     {'dateTime': '2020-01-17T05:21:30.000', 'level': 'light', 'seconds': 60},\n",
       "     {'dateTime': '2020-01-17T05:22:30.000', 'level': 'wake', 'seconds': 390},\n",
       "     {'dateTime': '2020-01-17T05:29:00.000',\n",
       "      'level': 'light',\n",
       "      'seconds': 3720},\n",
       "     {'dateTime': '2020-01-17T06:31:00.000', 'level': 'wake', 'seconds': 360},\n",
       "     {'dateTime': '2020-01-17T06:37:00.000', 'level': 'light', 'seconds': 780},\n",
       "     {'dateTime': '2020-01-17T06:50:00.000',\n",
       "      'level': 'wake',\n",
       "      'seconds': 1830}],\n",
       "    'shortData': [{'dateTime': '2020-01-16T23:21:00.000',\n",
       "      'level': 'wake',\n",
       "      'seconds': 60},\n",
       "     {'dateTime': '2020-01-16T23:31:00.000', 'level': 'wake', 'seconds': 30},\n",
       "     {'dateTime': '2020-01-17T00:17:30.000', 'level': 'wake', 'seconds': 30},\n",
       "     {'dateTime': '2020-01-17T01:08:30.000', 'level': 'wake', 'seconds': 30},\n",
       "     {'dateTime': '2020-01-17T01:36:00.000', 'level': 'wake', 'seconds': 30},\n",
       "     {'dateTime': '2020-01-17T01:40:00.000', 'level': 'wake', 'seconds': 60},\n",
       "     {'dateTime': '2020-01-17T01:57:30.000', 'level': 'wake', 'seconds': 60},\n",
       "     {'dateTime': '2020-01-17T02:56:00.000', 'level': 'wake', 'seconds': 60},\n",
       "     {'dateTime': '2020-01-17T03:14:00.000', 'level': 'wake', 'seconds': 30},\n",
       "     {'dateTime': '2020-01-17T03:28:00.000', 'level': 'wake', 'seconds': 30},\n",
       "     {'dateTime': '2020-01-17T03:33:00.000', 'level': 'wake', 'seconds': 30},\n",
       "     {'dateTime': '2020-01-17T03:36:00.000', 'level': 'wake', 'seconds': 30},\n",
       "     {'dateTime': '2020-01-17T04:00:00.000', 'level': 'wake', 'seconds': 30},\n",
       "     {'dateTime': '2020-01-17T04:17:30.000', 'level': 'wake', 'seconds': 30},\n",
       "     {'dateTime': '2020-01-17T04:40:00.000', 'level': 'wake', 'seconds': 30},\n",
       "     {'dateTime': '2020-01-17T04:52:30.000', 'level': 'wake', 'seconds': 30},\n",
       "     {'dateTime': '2020-01-17T04:58:00.000', 'level': 'wake', 'seconds': 30},\n",
       "     {'dateTime': '2020-01-17T05:13:00.000', 'level': 'wake', 'seconds': 30},\n",
       "     {'dateTime': '2020-01-17T05:45:00.000', 'level': 'wake', 'seconds': 30},\n",
       "     {'dateTime': '2020-01-17T05:55:00.000', 'level': 'wake', 'seconds': 150},\n",
       "     {'dateTime': '2020-01-17T06:11:00.000', 'level': 'wake', 'seconds': 60},\n",
       "     {'dateTime': '2020-01-17T06:25:00.000', 'level': 'wake', 'seconds': 60},\n",
       "     {'dateTime': '2020-01-17T06:40:00.000', 'level': 'wake', 'seconds': 150},\n",
       "     {'dateTime': '2020-01-17T06:45:00.000', 'level': 'wake', 'seconds': 60}],\n",
       "    'summary': {'deep': {'count': 4, 'minutes': 99, 'thirtyDayAvgMinutes': 49},\n",
       "     'light': {'count': 25, 'minutes': 226, 'thirtyDayAvgMinutes': 280},\n",
       "     'rem': {'count': 10, 'minutes': 94, 'thirtyDayAvgMinutes': 66},\n",
       "     'wake': {'count': 28, 'minutes': 72, 'thirtyDayAvgMinutes': 78}}},\n",
       "   'logId': 25487811377,\n",
       "   'minutesAfterWakeup': 5,\n",
       "   'minutesAsleep': 419,\n",
       "   'minutesAwake': 72,\n",
       "   'minutesToFallAsleep': 0,\n",
       "   'startTime': '2020-01-16T23:09:30.000',\n",
       "   'timeInBed': 491,\n",
       "   'type': 'stages'},\n",
       "  {'dateOfSleep': '2020-01-16',\n",
       "   'duration': 27720000,\n",
       "   'efficiency': 92,\n",
       "   'endTime': '2020-01-16T06:16:30.000',\n",
       "   'infoCode': 0,\n",
       "   'isMainSleep': True,\n",
       "   'levels': {'data': [{'dateTime': '2020-01-15T22:34:00.000',\n",
       "      'level': 'wake',\n",
       "      'seconds': 600},\n",
       "     {'dateTime': '2020-01-15T22:44:00.000', 'level': 'deep', 'seconds': 270},\n",
       "     {'dateTime': '2020-01-15T22:48:30.000', 'level': 'wake', 'seconds': 240},\n",
       "     {'dateTime': '2020-01-15T22:52:30.000', 'level': 'light', 'seconds': 90},\n",
       "     {'dateTime': '2020-01-15T22:54:00.000', 'level': 'deep', 'seconds': 420},\n",
       "     {'dateTime': '2020-01-15T23:01:00.000', 'level': 'wake', 'seconds': 660},\n",
       "     {'dateTime': '2020-01-15T23:12:00.000', 'level': 'light', 'seconds': 120},\n",
       "     {'dateTime': '2020-01-15T23:14:00.000', 'level': 'wake', 'seconds': 360},\n",
       "     {'dateTime': '2020-01-15T23:20:00.000',\n",
       "      'level': 'light',\n",
       "      'seconds': 1320},\n",
       "     {'dateTime': '2020-01-15T23:42:00.000', 'level': 'deep', 'seconds': 390},\n",
       "     {'dateTime': '2020-01-15T23:48:30.000',\n",
       "      'level': 'light',\n",
       "      'seconds': 7380},\n",
       "     {'dateTime': '2020-01-16T01:51:30.000', 'level': 'wake', 'seconds': 480},\n",
       "     {'dateTime': '2020-01-16T01:59:30.000', 'level': 'light', 'seconds': 900},\n",
       "     {'dateTime': '2020-01-16T02:14:30.000', 'level': 'wake', 'seconds': 300},\n",
       "     {'dateTime': '2020-01-16T02:19:30.000', 'level': 'rem', 'seconds': 330},\n",
       "     {'dateTime': '2020-01-16T02:25:00.000', 'level': 'wake', 'seconds': 330},\n",
       "     {'dateTime': '2020-01-16T02:30:30.000',\n",
       "      'level': 'light',\n",
       "      'seconds': 2070},\n",
       "     {'dateTime': '2020-01-16T03:05:00.000', 'level': 'rem', 'seconds': 2640},\n",
       "     {'dateTime': '2020-01-16T03:49:00.000', 'level': 'light', 'seconds': 630},\n",
       "     {'dateTime': '2020-01-16T03:59:30.000', 'level': 'deep', 'seconds': 1560},\n",
       "     {'dateTime': '2020-01-16T04:25:30.000',\n",
       "      'level': 'light',\n",
       "      'seconds': 3330},\n",
       "     {'dateTime': '2020-01-16T05:21:00.000', 'level': 'rem', 'seconds': 660},\n",
       "     {'dateTime': '2020-01-16T05:32:00.000', 'level': 'light', 'seconds': 930},\n",
       "     {'dateTime': '2020-01-16T05:47:30.000', 'level': 'rem', 'seconds': 360},\n",
       "     {'dateTime': '2020-01-16T05:53:30.000', 'level': 'light', 'seconds': 780},\n",
       "     {'dateTime': '2020-01-16T06:06:30.000', 'level': 'wake', 'seconds': 600}],\n",
       "    'shortData': [{'dateTime': '2020-01-15T23:58:30.000',\n",
       "      'level': 'wake',\n",
       "      'seconds': 90},\n",
       "     {'dateTime': '2020-01-16T00:24:30.000', 'level': 'wake', 'seconds': 90},\n",
       "     {'dateTime': '2020-01-16T01:31:00.000', 'level': 'wake', 'seconds': 120},\n",
       "     {'dateTime': '2020-01-16T04:29:00.000', 'level': 'wake', 'seconds': 30},\n",
       "     {'dateTime': '2020-01-16T04:44:00.000', 'level': 'wake', 'seconds': 90},\n",
       "     {'dateTime': '2020-01-16T04:58:00.000', 'level': 'wake', 'seconds': 120},\n",
       "     {'dateTime': '2020-01-16T05:03:00.000', 'level': 'wake', 'seconds': 60}],\n",
       "    'summary': {'deep': {'count': 4, 'minutes': 44, 'thirtyDayAvgMinutes': 54},\n",
       "     'light': {'count': 17, 'minutes': 283, 'thirtyDayAvgMinutes': 276},\n",
       "     'rem': {'count': 4, 'minutes': 66, 'thirtyDayAvgMinutes': 65},\n",
       "     'wake': {'count': 15, 'minutes': 69, 'thirtyDayAvgMinutes': 87}}},\n",
       "   'logId': 25468095378,\n",
       "   'minutesAfterWakeup': 0,\n",
       "   'minutesAsleep': 393,\n",
       "   'minutesAwake': 69,\n",
       "   'minutesToFallAsleep': 0,\n",
       "   'startTime': '2020-01-15T22:34:00.000',\n",
       "   'timeInBed': 462,\n",
       "   'type': 'stages'},\n",
       "  {'dateOfSleep': '2020-01-15',\n",
       "   'duration': 28920000,\n",
       "   'efficiency': 88,\n",
       "   'endTime': '2020-01-15T07:53:30.000',\n",
       "   'infoCode': 0,\n",
       "   'isMainSleep': True,\n",
       "   'levels': {'data': [{'dateTime': '2020-01-14T23:51:00.000',\n",
       "      'level': 'light',\n",
       "      'seconds': 330},\n",
       "     {'dateTime': '2020-01-14T23:56:30.000', 'level': 'wake', 'seconds': 720},\n",
       "     {'dateTime': '2020-01-15T00:08:30.000',\n",
       "      'level': 'light',\n",
       "      'seconds': 1410},\n",
       "     {'dateTime': '2020-01-15T00:32:00.000', 'level': 'deep', 'seconds': 870},\n",
       "     {'dateTime': '2020-01-15T00:46:30.000', 'level': 'light', 'seconds': 810},\n",
       "     {'dateTime': '2020-01-15T01:00:00.000', 'level': 'rem', 'seconds': 1200},\n",
       "     {'dateTime': '2020-01-15T01:20:00.000', 'level': 'light', 'seconds': 510},\n",
       "     {'dateTime': '2020-01-15T01:28:30.000', 'level': 'deep', 'seconds': 840},\n",
       "     {'dateTime': '2020-01-15T01:42:30.000',\n",
       "      'level': 'light',\n",
       "      'seconds': 2520},\n",
       "     {'dateTime': '2020-01-15T02:24:30.000', 'level': 'rem', 'seconds': 1080},\n",
       "     {'dateTime': '2020-01-15T02:42:30.000',\n",
       "      'level': 'light',\n",
       "      'seconds': 1620},\n",
       "     {'dateTime': '2020-01-15T03:09:30.000', 'level': 'deep', 'seconds': 930},\n",
       "     {'dateTime': '2020-01-15T03:25:00.000',\n",
       "      'level': 'light',\n",
       "      'seconds': 2400},\n",
       "     {'dateTime': '2020-01-15T04:05:00.000', 'level': 'rem', 'seconds': 990},\n",
       "     {'dateTime': '2020-01-15T04:21:30.000',\n",
       "      'level': 'light',\n",
       "      'seconds': 1170},\n",
       "     {'dateTime': '2020-01-15T04:41:00.000', 'level': 'deep', 'seconds': 270},\n",
       "     {'dateTime': '2020-01-15T04:45:30.000', 'level': 'light', 'seconds': 210},\n",
       "     {'dateTime': '2020-01-15T04:49:00.000', 'level': 'deep', 'seconds': 330},\n",
       "     {'dateTime': '2020-01-15T04:54:30.000', 'level': 'light', 'seconds': 990},\n",
       "     {'dateTime': '2020-01-15T05:11:00.000', 'level': 'wake', 'seconds': 2760},\n",
       "     {'dateTime': '2020-01-15T05:57:00.000',\n",
       "      'level': 'light',\n",
       "      'seconds': 4290},\n",
       "     {'dateTime': '2020-01-15T07:08:30.000', 'level': 'rem', 'seconds': 780},\n",
       "     {'dateTime': '2020-01-15T07:21:30.000', 'level': 'light', 'seconds': 870},\n",
       "     {'dateTime': '2020-01-15T07:36:00.000', 'level': 'wake', 'seconds': 450},\n",
       "     {'dateTime': '2020-01-15T07:43:30.000',\n",
       "      'level': 'light',\n",
       "      'seconds': 600}],\n",
       "    'shortData': [{'dateTime': '2020-01-14T23:53:00.000',\n",
       "      'level': 'wake',\n",
       "      'seconds': 120},\n",
       "     {'dateTime': '2020-01-15T01:05:00.000', 'level': 'wake', 'seconds': 30},\n",
       "     {'dateTime': '2020-01-15T01:55:30.000', 'level': 'wake', 'seconds': 60},\n",
       "     {'dateTime': '2020-01-15T02:22:30.000', 'level': 'wake', 'seconds': 30},\n",
       "     {'dateTime': '2020-01-15T02:42:30.000', 'level': 'wake', 'seconds': 30},\n",
       "     {'dateTime': '2020-01-15T03:25:00.000', 'level': 'wake', 'seconds': 60},\n",
       "     {'dateTime': '2020-01-15T04:01:30.000', 'level': 'wake', 'seconds': 30},\n",
       "     {'dateTime': '2020-01-15T04:22:30.000', 'level': 'wake', 'seconds': 30},\n",
       "     {'dateTime': '2020-01-15T04:56:00.000', 'level': 'wake', 'seconds': 150},\n",
       "     {'dateTime': '2020-01-15T06:04:00.000', 'level': 'wake', 'seconds': 30},\n",
       "     {'dateTime': '2020-01-15T06:06:00.000', 'level': 'wake', 'seconds': 60},\n",
       "     {'dateTime': '2020-01-15T06:23:00.000', 'level': 'wake', 'seconds': 120},\n",
       "     {'dateTime': '2020-01-15T06:36:00.000', 'level': 'wake', 'seconds': 60},\n",
       "     {'dateTime': '2020-01-15T06:39:00.000', 'level': 'wake', 'seconds': 30},\n",
       "     {'dateTime': '2020-01-15T06:42:00.000', 'level': 'wake', 'seconds': 30},\n",
       "     {'dateTime': '2020-01-15T06:46:00.000', 'level': 'wake', 'seconds': 60},\n",
       "     {'dateTime': '2020-01-15T07:20:00.000', 'level': 'wake', 'seconds': 90},\n",
       "     {'dateTime': '2020-01-15T07:30:00.000', 'level': 'wake', 'seconds': 180},\n",
       "     {'dateTime': '2020-01-15T07:48:30.000', 'level': 'wake', 'seconds': 90}],\n",
       "    'summary': {'deep': {'count': 5, 'minutes': 54, 'thirtyDayAvgMinutes': 0},\n",
       "     'light': {'count': 28, 'minutes': 276, 'thirtyDayAvgMinutes': 0},\n",
       "     'rem': {'count': 5, 'minutes': 65, 'thirtyDayAvgMinutes': 0},\n",
       "     'wake': {'count': 22, 'minutes': 87, 'thirtyDayAvgMinutes': 0}}},\n",
       "   'logId': 25455855559,\n",
       "   'minutesAfterWakeup': 0,\n",
       "   'minutesAsleep': 395,\n",
       "   'minutesAwake': 87,\n",
       "   'minutesToFallAsleep': 0,\n",
       "   'startTime': '2020-01-14T23:51:00.000',\n",
       "   'timeInBed': 482,\n",
       "   'type': 'stages'}]}"
      ]
     },
     "execution_count": 2,
     "metadata": {},
     "output_type": "execute_result"
    }
   ],
   "source": [
    "# what is this file?\n",
    "json_data"
   ]
  },
  {
   "cell_type": "code",
   "execution_count": 3,
   "metadata": {},
   "outputs": [
    {
     "name": "stdout",
     "output_type": "stream",
     "text": [
      "sleep\n"
     ]
    }
   ],
   "source": [
    "# let's see what elements do we have in the dictionary\n",
    "for element in json_data:\n",
    "  print(element)"
   ]
  },
  {
   "cell_type": "code",
   "execution_count": 4,
   "metadata": {},
   "outputs": [
    {
     "data": {
      "text/plain": [
       "list"
      ]
     },
     "execution_count": 4,
     "metadata": {},
     "output_type": "execute_result"
    }
   ],
   "source": [
    "# we are interested in sleep! let's focus on that\n",
    "type(json_data['sleep'])"
   ]
  },
  {
   "cell_type": "code",
   "execution_count": 5,
   "metadata": {},
   "outputs": [
    {
     "data": {
      "text/plain": [
       "3"
      ]
     },
     "execution_count": 5,
     "metadata": {},
     "output_type": "execute_result"
    }
   ],
   "source": [
    "# let's find the element related to the day of interest! do we have one element per day?\n",
    "\n",
    "# 1. let's find how many days are there\n",
    "len(json_data['sleep'])\n",
    "# -- write your code --"
   ]
  },
  {
   "cell_type": "code",
   "execution_count": 9,
   "metadata": {},
   "outputs": [
    {
     "data": {
      "text/plain": [
       "{'dateOfSleep': '2020-01-16',\n",
       " 'duration': 27720000,\n",
       " 'efficiency': 92,\n",
       " 'endTime': '2020-01-16T06:16:30.000',\n",
       " 'infoCode': 0,\n",
       " 'isMainSleep': True,\n",
       " 'levels': {'data': [{'dateTime': '2020-01-15T22:34:00.000',\n",
       "    'level': 'wake',\n",
       "    'seconds': 600},\n",
       "   {'dateTime': '2020-01-15T22:44:00.000', 'level': 'deep', 'seconds': 270},\n",
       "   {'dateTime': '2020-01-15T22:48:30.000', 'level': 'wake', 'seconds': 240},\n",
       "   {'dateTime': '2020-01-15T22:52:30.000', 'level': 'light', 'seconds': 90},\n",
       "   {'dateTime': '2020-01-15T22:54:00.000', 'level': 'deep', 'seconds': 420},\n",
       "   {'dateTime': '2020-01-15T23:01:00.000', 'level': 'wake', 'seconds': 660},\n",
       "   {'dateTime': '2020-01-15T23:12:00.000', 'level': 'light', 'seconds': 120},\n",
       "   {'dateTime': '2020-01-15T23:14:00.000', 'level': 'wake', 'seconds': 360},\n",
       "   {'dateTime': '2020-01-15T23:20:00.000', 'level': 'light', 'seconds': 1320},\n",
       "   {'dateTime': '2020-01-15T23:42:00.000', 'level': 'deep', 'seconds': 390},\n",
       "   {'dateTime': '2020-01-15T23:48:30.000', 'level': 'light', 'seconds': 7380},\n",
       "   {'dateTime': '2020-01-16T01:51:30.000', 'level': 'wake', 'seconds': 480},\n",
       "   {'dateTime': '2020-01-16T01:59:30.000', 'level': 'light', 'seconds': 900},\n",
       "   {'dateTime': '2020-01-16T02:14:30.000', 'level': 'wake', 'seconds': 300},\n",
       "   {'dateTime': '2020-01-16T02:19:30.000', 'level': 'rem', 'seconds': 330},\n",
       "   {'dateTime': '2020-01-16T02:25:00.000', 'level': 'wake', 'seconds': 330},\n",
       "   {'dateTime': '2020-01-16T02:30:30.000', 'level': 'light', 'seconds': 2070},\n",
       "   {'dateTime': '2020-01-16T03:05:00.000', 'level': 'rem', 'seconds': 2640},\n",
       "   {'dateTime': '2020-01-16T03:49:00.000', 'level': 'light', 'seconds': 630},\n",
       "   {'dateTime': '2020-01-16T03:59:30.000', 'level': 'deep', 'seconds': 1560},\n",
       "   {'dateTime': '2020-01-16T04:25:30.000', 'level': 'light', 'seconds': 3330},\n",
       "   {'dateTime': '2020-01-16T05:21:00.000', 'level': 'rem', 'seconds': 660},\n",
       "   {'dateTime': '2020-01-16T05:32:00.000', 'level': 'light', 'seconds': 930},\n",
       "   {'dateTime': '2020-01-16T05:47:30.000', 'level': 'rem', 'seconds': 360},\n",
       "   {'dateTime': '2020-01-16T05:53:30.000', 'level': 'light', 'seconds': 780},\n",
       "   {'dateTime': '2020-01-16T06:06:30.000', 'level': 'wake', 'seconds': 600}],\n",
       "  'shortData': [{'dateTime': '2020-01-15T23:58:30.000',\n",
       "    'level': 'wake',\n",
       "    'seconds': 90},\n",
       "   {'dateTime': '2020-01-16T00:24:30.000', 'level': 'wake', 'seconds': 90},\n",
       "   {'dateTime': '2020-01-16T01:31:00.000', 'level': 'wake', 'seconds': 120},\n",
       "   {'dateTime': '2020-01-16T04:29:00.000', 'level': 'wake', 'seconds': 30},\n",
       "   {'dateTime': '2020-01-16T04:44:00.000', 'level': 'wake', 'seconds': 90},\n",
       "   {'dateTime': '2020-01-16T04:58:00.000', 'level': 'wake', 'seconds': 120},\n",
       "   {'dateTime': '2020-01-16T05:03:00.000', 'level': 'wake', 'seconds': 60}],\n",
       "  'summary': {'deep': {'count': 4, 'minutes': 44, 'thirtyDayAvgMinutes': 54},\n",
       "   'light': {'count': 17, 'minutes': 283, 'thirtyDayAvgMinutes': 276},\n",
       "   'rem': {'count': 4, 'minutes': 66, 'thirtyDayAvgMinutes': 65},\n",
       "   'wake': {'count': 15, 'minutes': 69, 'thirtyDayAvgMinutes': 87}}},\n",
       " 'logId': 25468095378,\n",
       " 'minutesAfterWakeup': 0,\n",
       " 'minutesAsleep': 393,\n",
       " 'minutesAwake': 69,\n",
       " 'minutesToFallAsleep': 0,\n",
       " 'startTime': '2020-01-15T22:34:00.000',\n",
       " 'timeInBed': 462,\n",
       " 'type': 'stages'}"
      ]
     },
     "execution_count": 9,
     "metadata": {},
     "output_type": "execute_result"
    }
   ],
   "source": [
    "# 2. let's find the index of the day of interest; for each day, let's print dateOfSleep , so we will know \n",
    "# which element to use (the night is between 15 and 16 of Jan 2020)\n",
    "\n",
    "# -- write your code --\n",
    "json_data['sleep'][1]"
   ]
  },
  {
   "cell_type": "code",
   "execution_count": 10,
   "metadata": {},
   "outputs": [
    {
     "name": "stdout",
     "output_type": "stream",
     "text": [
      "Night starts at: 2020-01-15T22:34:00.000\n",
      "Night end at: 2020-01-16T06:16:30.000\n"
     ]
    }
   ],
   "source": [
    "# 3. let's find the time the participant went to bed\n",
    "night_index = 1# put here the day you have chosen\n",
    "json_data['sleep'][night_index]['startTime']\n",
    "print('Night starts at: '+json_data['sleep'][night_index]['startTime'])\n",
    "print('Night end at: '+json_data['sleep'][night_index]['endTime'])"
   ]
  },
  {
   "cell_type": "code",
   "execution_count": null,
   "metadata": {
    "collapsed": true
   },
   "outputs": [],
   "source": [
    "# 4. total time in bed: put the total time spent in bed by the participant (calculate it manually)\n",
    "\n",
    "# -- write your code --"
   ]
  },
  {
   "cell_type": "code",
   "execution_count": 11,
   "metadata": {},
   "outputs": [],
   "source": [
    "# 5. let's extract the hypnogram !\n",
    "# the code is written for you, but verify step by step what is happening (add comments)!\n",
    "\n",
    "from datetime import datetime\n",
    "import time\n",
    "\n",
    "#'1' = deep (N3) sleep - '2' = light (N1 or N2) sleep - '3' = REM sleep - '4' = awake\n",
    "dic_sleep = {'wake':4 , 'deep':1, 'light':2 , 'rem':3}\n",
    "\n",
    "n_sleep_logs = len(json_data['sleep'][night_index]['levels']['data'])\n",
    "\n",
    "# total n of intervals (30 min each)\n",
    "total_n_intervals = 7*60*2 + (26+16)*2 +1\n",
    "\n",
    "# array of sleep status: from 11pm to 6am (420 minutes)\n",
    "hypno = np.zeros(total_n_intervals)\n",
    "\n",
    "time_start = datetime.strptime('2020-01-15T22:34:00.000', '%Y-%m-%dT%H:%M:%S.%f')\n",
    "\n",
    "current_sample = 0\n",
    "for ind in range(n_sleep_logs):\n",
    "  n_samples_sleep_log = int(json_data['sleep'][night_index]['levels']['data'][ind]['seconds']/30)\n",
    "  sleep_recorded = json_data['sleep'][night_index]['levels']['data'][ind]['level']\n",
    "  hypno[current_sample:current_sample+n_samples_sleep_log] = dic_sleep[sleep_recorded]\n",
    "  current_sample = current_sample+n_samples_sleep_log"
   ]
  },
  {
   "cell_type": "code",
   "execution_count": 16,
   "metadata": {},
   "outputs": [
    {
     "data": {
      "text/plain": [
       "925"
      ]
     },
     "execution_count": 16,
     "metadata": {},
     "output_type": "execute_result"
    }
   ],
   "source": [
    "# 6. let's verify hypnogram is the right length\n",
    "len(hypno)"
   ]
  },
  {
   "cell_type": "code",
   "execution_count": 17,
   "metadata": {},
   "outputs": [],
   "source": [
    "# 7. let's write down the hypnogram to export,\n",
    "# we need to write the phase of sleep (from 1 to 4) from 11:00pm to 6:00am , with sleep phase for each 30 seconds\n",
    "total_number_30sec_int = 7*60*2\n",
    "\n",
    "df = pd.DataFrame(columns = ['IndexTime','SleepPhase'])\n",
    "df['IndexTime'] = range(total_number_30sec_int)\n",
    "\n",
    "# let's cut the first and last 30-sec-intervals of hypno (outside the range of interest)\n",
    "intervals_before_11pm = 26*2# -- calculate it manually (how many 30 sec intervals should we cut?)\n",
    "intervals_after_6am = 16*2+1# -- calculate it manually (how many 30 sec intervals should we cut?)\n",
    "\n",
    "# let's cut the first and last values of hypno (outside the range of interest)\n",
    "df['SleepPhase'] = hypno[intervals_before_11pm:-(intervals_after_6am)]"
   ]
  },
  {
   "cell_type": "code",
   "execution_count": 19,
   "metadata": {},
   "outputs": [],
   "source": [
    "# 8. let's save the final csv file\n",
    "df.to_csv('sensor_2_output.csv', index=False)"
   ]
  },
  {
   "cell_type": "code",
   "execution_count": 20,
   "metadata": {},
   "outputs": [
    {
     "name": "stdout",
     "output_type": "stream",
     "text": [
      "Length hours = 7.0\n",
      "Min deep = 33.5\n",
      "Min light = 284.5\n",
      "Min REM = 66.5\n",
      "Min awake = 35.5\n"
     ]
    }
   ],
   "source": [
    "# 9. let's calculate amount of sleep per phase\n",
    "# in number of intervals\n",
    "# in percentage over the 7 hours of analysis\n",
    "\n",
    "# -- write your code --\n",
    "print('Length hours = '+str(len(df['SleepPhase'])/120))\n",
    "\n",
    "print('Min deep = '+str(np.sum(df['SleepPhase']==1)/2))\n",
    "print('Min light = '+str(np.sum(df['SleepPhase']==2)/2))\n",
    "print('Min REM = '+str(np.sum(df['SleepPhase']==3)/2))\n",
    "print('Min awake = '+str(np.sum(df['SleepPhase']==4)/2))"
   ]
  },
  {
   "cell_type": "code",
   "execution_count": 22,
   "metadata": {},
   "outputs": [
    {
     "data": {
      "image/png": "[encoded data removed]",
      "text/plain": [
       "<Figure size 432x288 with 1 Axes>"
      ]
     },
     "metadata": {
      "needs_background": "light"
     },
     "output_type": "display_data"
    }
   ],
   "source": [
    "# 10. let's print the hypnogram! \n",
    "\n",
    "def plot_hypno(signal): #,color\n",
    "  x = np.arange(len(signal))\n",
    "  y = signal\n",
    "  \n",
    "  fontsizeV = 12\n",
    "  mpl.plot(x,y) #color=color\n",
    "  mpl.xlabel('Time (30sec intervals)',fontsize=fontsizeV)\n",
    "  mpl.ylabel('Sleep phase',fontsize=fontsizeV)\n",
    "  mpl.yticks([1,2,3,4])\n",
    "  mpl.title('1=deep(N3), 2=light(N1=N2), 3=REM, 4=awake')\n",
    "  mpl.grid(True)\n",
    "  mpl.tight_layout()\n",
    "  \n",
    "# -- write your code --\n",
    "plot_hypno(df['SleepPhase'])"
   ]
  },
  {
   "cell_type": "code",
   "execution_count": null,
   "metadata": {
    "collapsed": true
   },
   "outputs": [],
   "source": []
  },
  {
   "cell_type": "code",
   "execution_count": null,
   "metadata": {
    "collapsed": true
   },
   "outputs": [],
   "source": []
  },
  {
   "cell_type": "code",
   "execution_count": 6,
   "metadata": {
    "collapsed": true
   },
   "outputs": [],
   "source": [
    "import pandas as pd\n",
    "import numpy as np\n",
    "hypno_RAND = pd.read_csv('../sensor1/sensor_RAND_output.csv')\n"
   ]
  },
  {
   "cell_type": "code",
   "execution_count": 7,
   "metadata": {},
   "outputs": [
    {
     "data": {
      "text/html": [
       "<div>\n",
       "<style scoped>\n",
       "    .dataframe tbody tr th:only-of-type {\n",
       "        vertical-align: middle;\n",
       "    }\n",
       "\n",
       "    .dataframe tbody tr th {\n",
       "        vertical-align: top;\n",
       "    }\n",
       "\n",
       "    .dataframe thead th {\n",
       "        text-align: right;\n",
       "    }\n",
       "</style>\n",
       "<table border=\"1\" class=\"dataframe\">\n",
       "  <thead>\n",
       "    <tr style=\"text-align: right;\">\n",
       "      <th></th>\n",
       "      <th>IndexTime</th>\n",
       "      <th>SleepPhase</th>\n",
       "    </tr>\n",
       "  </thead>\n",
       "  <tbody>\n",
       "    <tr>\n",
       "      <td>0</td>\n",
       "      <td>0</td>\n",
       "      <td>3</td>\n",
       "    </tr>\n",
       "    <tr>\n",
       "      <td>1</td>\n",
       "      <td>1</td>\n",
       "      <td>2</td>\n",
       "    </tr>\n",
       "    <tr>\n",
       "      <td>2</td>\n",
       "      <td>2</td>\n",
       "      <td>2</td>\n",
       "    </tr>\n",
       "    <tr>\n",
       "      <td>3</td>\n",
       "      <td>3</td>\n",
       "      <td>2</td>\n",
       "    </tr>\n",
       "    <tr>\n",
       "      <td>4</td>\n",
       "      <td>4</td>\n",
       "      <td>4</td>\n",
       "    </tr>\n",
       "    <tr>\n",
       "      <td>...</td>\n",
       "      <td>...</td>\n",
       "      <td>...</td>\n",
       "    </tr>\n",
       "    <tr>\n",
       "      <td>835</td>\n",
       "      <td>835</td>\n",
       "      <td>3</td>\n",
       "    </tr>\n",
       "    <tr>\n",
       "      <td>836</td>\n",
       "      <td>836</td>\n",
       "      <td>4</td>\n",
       "    </tr>\n",
       "    <tr>\n",
       "      <td>837</td>\n",
       "      <td>837</td>\n",
       "      <td>1</td>\n",
       "    </tr>\n",
       "    <tr>\n",
       "      <td>838</td>\n",
       "      <td>838</td>\n",
       "      <td>1</td>\n",
       "    </tr>\n",
       "    <tr>\n",
       "      <td>839</td>\n",
       "      <td>839</td>\n",
       "      <td>1</td>\n",
       "    </tr>\n",
       "  </tbody>\n",
       "</table>\n",
       "<p>840 rows × 2 columns</p>\n",
       "</div>"
      ],
      "text/plain": [
       "     IndexTime  SleepPhase\n",
       "0            0           3\n",
       "1            1           2\n",
       "2            2           2\n",
       "3            3           2\n",
       "4            4           4\n",
       "..         ...         ...\n",
       "835        835           3\n",
       "836        836           4\n",
       "837        837           1\n",
       "838        838           1\n",
       "839        839           1\n",
       "\n",
       "[840 rows x 2 columns]"
      ]
     },
     "execution_count": 7,
     "metadata": {},
     "output_type": "execute_result"
    }
   ],
   "source": [
    "hypno_RAND"
   ]
  },
  {
   "cell_type": "code",
   "execution_count": null,
   "metadata": {
    "collapsed": true
   },
   "outputs": [],
   "source": []
  }
 ],
 "metadata": {
  "kernelspec": {
   "display_name": "Python 3",
   "language": "python",
   "name": "python3"
  },
  "language_info": {
   "codemirror_mode": {
    "name": "ipython",
    "version": 3
   },
   "file_extension": ".py",
   "mimetype": "text/x-python",
   "name": "python",
   "nbconvert_exporter": "python",
   "pygments_lexer": "ipython3",
   "version": "3.8.5"
  }
 },
 "nbformat": 4,
 "nbformat_minor": 2
}
