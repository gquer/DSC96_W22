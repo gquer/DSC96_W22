{
 "cells": [
  {
   "cell_type": "code",
   "execution_count": 1,
   "metadata": {
    "collapsed": true
   },
   "outputs": [],
   "source": [
    "import json\n",
    "import pandas as pd\n",
    "import numpy as np\n",
    "import matplotlib as mpl\n",
    "\n",
    "# let's import our file:\n",
    "json_file = './data/sensor2_sleep.json'\n",
    "\n",
    "with open(json_file, 'r') as infile:\n",
    "  json_data = json.load(infile)"
   ]
  },
  {
   "cell_type": "code",
   "execution_count": 15,
   "metadata": {},
   "outputs": [
    {
     "data": {
      "text/plain": [
       "{'sleep': [{'dateOfSleep': '2020-01-17',\n",
       "   'duration': 29460000,\n",
       "   'efficiency': 96,\n",
       "   'endTime': '2020-01-17T07:20:30.000',\n",
       "   'infoCode': 0,\n",
       "   'isMainSleep': True,\n",
       "   'levels': {'data': [{'dateTime': '2020-01-16T23:09:30.000',\n",
       "      'level': 'wake',\n",
       "      'seconds': 570},\n",
       "     {'dateTime': '2020-01-16T23:19:00.000',\n",
       "      'level': 'light',\n",
       "      'seconds': 1200},\n",
       "     {'dateTime': '2020-01-16T23:39:00.000', 'level': 'deep', 'seconds': 1650},\n",
       "     {'dateTime': '2020-01-17T00:06:30.000', 'level': 'light', 'seconds': 360},\n",
       "     {'dateTime': '2020-01-17T00:12:30.000', 'level': 'rem', 'seconds': 300},\n",
       "     {'dateTime': '2020-01-17T00:17:30.000',\n",
       "      'level': 'light',\n",
       "      'seconds': 1320},\n",
       "     {'dateTime': '2020-01-17T00:39:30.000', 'level': 'deep', 'seconds': 1770},\n",
       "     {'dateTime': '2020-01-17T01:09:00.000',\n",
       "      'level': 'light',\n",
       "      'seconds': 1920},\n",
       "     {'dateTime': '2020-01-17T01:41:00.000', 'level': 'rem', 'seconds': 930},\n",
       "     {'dateTime': '2020-01-17T01:56:30.000',\n",
       "      'level': 'light',\n",
       "      'seconds': 1440},\n",
       "     {'dateTime': '2020-01-17T02:20:30.000', 'level': 'deep', 'seconds': 2190},\n",
       "     {'dateTime': '2020-01-17T02:57:00.000', 'level': 'light', 'seconds': 810},\n",
       "     {'dateTime': '2020-01-17T03:10:30.000', 'level': 'rem', 'seconds': 1320},\n",
       "     {'dateTime': '2020-01-17T03:32:30.000',\n",
       "      'level': 'light',\n",
       "      'seconds': 1110},\n",
       "     {'dateTime': '2020-01-17T03:51:00.000', 'level': 'deep', 'seconds': 420},\n",
       "     {'dateTime': '2020-01-17T03:58:00.000',\n",
       "      'level': 'light',\n",
       "      'seconds': 1740},\n",
       "     {'dateTime': '2020-01-17T04:27:00.000', 'level': 'rem', 'seconds': 3270},\n",
       "     {'dateTime': '2020-01-17T05:21:30.000', 'level': 'light', 'seconds': 60},\n",
       "     {'dateTime': '2020-01-17T05:22:30.000', 'level': 'wake', 'seconds': 390},\n",
       "     {'dateTime': '2020-01-17T05:29:00.000',\n",
       "      'level': 'light',\n",
       "      'seconds': 3720},\n",
       "     {'dateTime': '2020-01-17T06:31:00.000', 'level': 'wake', 'seconds': 360},\n",
       "     {'dateTime': '2020-01-17T06:37:00.000', 'level': 'light', 'seconds': 780},\n",
       "     {'dateTime': '2020-01-17T06:50:00.000',\n",
       "      'level': 'wake',\n",
       "      'seconds': 1830}],\n",
       "    'shortData': [{'dateTime': '2020-01-16T23:21:00.000',\n",
       "      'level': 'wake',\n",
       "      'seconds': 60},\n",
       "     {'dateTime': '2020-01-16T23:31:00.000', 'level': 'wake', 'seconds': 30},\n",
       "     {'dateTime': '2020-01-17T00:17:30.000', 'level': 'wake', 'seconds': 30},\n",
       "     {'dateTime': '2020-01-17T01:08:30.000', 'level': 'wake', 'seconds': 30},\n",
       "     {'dateTime': '2020-01-17T01:36:00.000', 'level': 'wake', 'seconds': 30},\n",
       "     {'dateTime': '2020-01-17T01:40:00.000', 'level': 'wake', 'seconds': 60},\n",
       "     {'dateTime': '2020-01-17T01:57:30.000', 'level': 'wake', 'seconds': 60},\n",
       "     {'dateTime': '2020-01-17T02:56:00.000', 'level': 'wake', 'seconds': 60},\n",
       "     {'dateTime': '2020-01-17T03:14:00.000', 'level': 'wake', 'seconds': 30},\n",
       "     {'dateTime': '2020-01-17T03:28:00.000', 'level': 'wake', 'seconds': 30},\n",
       "     {'dateTime': '2020-01-17T03:33:00.000', 'level': 'wake', 'seconds': 30},\n",
       "     {'dateTime': '2020-01-17T03:36:00.000', 'level': 'wake', 'seconds': 30},\n",
       "     {'dateTime': '2020-01-17T04:00:00.000', 'level': 'wake', 'seconds': 30},\n",
       "     {'dateTime': '2020-01-17T04:17:30.000', 'level': 'wake', 'seconds': 30},\n",
       "     {'dateTime': '2020-01-17T04:40:00.000', 'level': 'wake', 'seconds': 30},\n",
       "     {'dateTime': '2020-01-17T04:52:30.000', 'level': 'wake', 'seconds': 30},\n",
       "     {'dateTime': '2020-01-17T04:58:00.000', 'level': 'wake', 'seconds': 30},\n",
       "     {'dateTime': '2020-01-17T05:13:00.000', 'level': 'wake', 'seconds': 30},\n",
       "     {'dateTime': '2020-01-17T05:45:00.000', 'level': 'wake', 'seconds': 30},\n",
       "     {'dateTime': '2020-01-17T05:55:00.000', 'level': 'wake', 'seconds': 150},\n",
       "     {'dateTime': '2020-01-17T06:11:00.000', 'level': 'wake', 'seconds': 60},\n",
       "     {'dateTime': '2020-01-17T06:25:00.000', 'level': 'wake', 'seconds': 60},\n",
       "     {'dateTime': '2020-01-17T06:40:00.000', 'level': 'wake', 'seconds': 150},\n",
       "     {'dateTime': '2020-01-17T06:45:00.000', 'level': 'wake', 'seconds': 60}],\n",
       "    'summary': {'deep': {'count': 4, 'minutes': 99, 'thirtyDayAvgMinutes': 49},\n",
       "     'light': {'count': 25, 'minutes': 226, 'thirtyDayAvgMinutes': 280},\n",
       "     'rem': {'count': 10, 'minutes': 94, 'thirtyDayAvgMinutes': 66},\n",
       "     'wake': {'count': 28, 'minutes': 72, 'thirtyDayAvgMinutes': 78}}},\n",
       "   'logId': 25487811377,\n",
       "   'minutesAfterWakeup': 5,\n",
       "   'minutesAsleep': 419,\n",
       "   'minutesAwake': 72,\n",
       "   'minutesToFallAsleep': 0,\n",
       "   'startTime': '2020-01-16T23:09:30.000',\n",
       "   'timeInBed': 491,\n",
       "   'type': 'stages'},\n",
       "  {'dateOfSleep': '2020-01-16',\n",
       "   'duration': 27720000,\n",
       "   'efficiency': 92,\n",
       "   'endTime': '2020-01-16T06:16:30.000',\n",
       "   'infoCode': 0,\n",
       "   'isMainSleep': True,\n",
       "   'levels': {'data': [{'dateTime': '2020-01-15T22:34:00.000',\n",
       "      'level': 'wake',\n",
       "      'seconds': 600},\n",
       "     {'dateTime': '2020-01-15T22:44:00.000', 'level': 'deep', 'seconds': 270},\n",
       "     {'dateTime': '2020-01-15T22:48:30.000', 'level': 'wake', 'seconds': 240},\n",
       "     {'dateTime': '2020-01-15T22:52:30.000', 'level': 'light', 'seconds': 90},\n",
       "     {'dateTime': '2020-01-15T22:54:00.000', 'level': 'deep', 'seconds': 420},\n",
       "     {'dateTime': '2020-01-15T23:01:00.000', 'level': 'wake', 'seconds': 660},\n",
       "     {'dateTime': '2020-01-15T23:12:00.000', 'level': 'light', 'seconds': 120},\n",
       "     {'dateTime': '2020-01-15T23:14:00.000', 'level': 'wake', 'seconds': 360},\n",
       "     {'dateTime': '2020-01-15T23:20:00.000',\n",
       "      'level': 'light',\n",
       "      'seconds': 1320},\n",
       "     {'dateTime': '2020-01-15T23:42:00.000', 'level': 'deep', 'seconds': 390},\n",
       "     {'dateTime': '2020-01-15T23:48:30.000',\n",
       "      'level': 'light',\n",
       "      'seconds': 7380},\n",
       "     {'dateTime': '2020-01-16T01:51:30.000', 'level': 'wake', 'seconds': 480},\n",
       "     {'dateTime': '2020-01-16T01:59:30.000', 'level': 'light', 'seconds': 900},\n",
       "     {'dateTime': '2020-01-16T02:14:30.000', 'level': 'wake', 'seconds': 300},\n",
       "     {'dateTime': '2020-01-16T02:19:30.000', 'level': 'rem', 'seconds': 330},\n",
       "     {'dateTime': '2020-01-16T02:25:00.000', 'level': 'wake', 'seconds': 330},\n",
       "     {'dateTime': '2020-01-16T02:30:30.000',\n",
       "      'level': 'light',\n",
       "      'seconds': 2070},\n",
       "     {'dateTime': '2020-01-16T03:05:00.000', 'level': 'rem', 'seconds': 2640},\n",
       "     {'dateTime': '2020-01-16T03:49:00.000', 'level': 'light', 'seconds': 630},\n",
       "     {'dateTime': '2020-01-16T03:59:30.000', 'level': 'deep', 'seconds': 1560},\n",
       "     {'dateTime': '2020-01-16T04:25:30.000',\n",
       "      'level': 'light',\n",
       "      'seconds': 3330},\n",
       "     {'dateTime': '2020-01-16T05:21:00.000', 'level': 'rem', 'seconds': 660},\n",
       "     {'dateTime': '2020-01-16T05:32:00.000', 'level': 'light', 'seconds': 930},\n",
       "     {'dateTime': '2020-01-16T05:47:30.000', 'level': 'rem', 'seconds': 360},\n",
       "     {'dateTime': '2020-01-16T05:53:30.000', 'level': 'light', 'seconds': 780},\n",
       "     {'dateTime': '2020-01-16T06:06:30.000', 'level': 'wake', 'seconds': 600}],\n",
       "    'shortData': [{'dateTime': '2020-01-15T23:58:30.000',\n",
       "      'level': 'wake',\n",
       "      'seconds': 90},\n",
       "     {'dateTime': '2020-01-16T00:24:30.000', 'level': 'wake', 'seconds': 90},\n",
       "     {'dateTime': '2020-01-16T01:31:00.000', 'level': 'wake', 'seconds': 120},\n",
       "     {'dateTime': '2020-01-16T04:29:00.000', 'level': 'wake', 'seconds': 30},\n",
       "     {'dateTime': '2020-01-16T04:44:00.000', 'level': 'wake', 'seconds': 90},\n",
       "     {'dateTime': '2020-01-16T04:58:00.000', 'level': 'wake', 'seconds': 120},\n",
       "     {'dateTime': '2020-01-16T05:03:00.000', 'level': 'wake', 'seconds': 60}],\n",
       "    'summary': {'deep': {'count': 4, 'minutes': 44, 'thirtyDayAvgMinutes': 54},\n",
       "     'light': {'count': 17, 'minutes': 283, 'thirtyDayAvgMinutes': 276},\n",
       "     'rem': {'count': 4, 'minutes': 66, 'thirtyDayAvgMinutes': 65},\n",
       "     'wake': {'count': 15, 'minutes': 69, 'thirtyDayAvgMinutes': 87}}},\n",
       "   'logId': 25468095378,\n",
       "   'minutesAfterWakeup': 0,\n",
       "   'minutesAsleep': 393,\n",
       "   'minutesAwake': 69,\n",
       "   'minutesToFallAsleep': 0,\n",
       "   'startTime': '2020-01-15T22:34:00.000',\n",
       "   'timeInBed': 462,\n",
       "   'type': 'stages'},\n",
       "  {'dateOfSleep': '2020-01-15',\n",
       "   'duration': 28920000,\n",
       "   'efficiency': 88,\n",
       "   'endTime': '2020-01-15T07:53:30.000',\n",
       "   'infoCode': 0,\n",
       "   'isMainSleep': True,\n",
       "   'levels': {'data': [{'dateTime': '2020-01-14T23:51:00.000',\n",
       "      'level': 'light',\n",
       "      'seconds': 330},\n",
       "     {'dateTime': '2020-01-14T23:56:30.000', 'level': 'wake', 'seconds': 720},\n",
       "     {'dateTime': '2020-01-15T00:08:30.000',\n",
       "      'level': 'light',\n",
       "      'seconds': 1410},\n",
       "     {'dateTime': '2020-01-15T00:32:00.000', 'level': 'deep', 'seconds': 870},\n",
       "     {'dateTime': '2020-01-15T00:46:30.000', 'level': 'light', 'seconds': 810},\n",
       "     {'dateTime': '2020-01-15T01:00:00.000', 'level': 'rem', 'seconds': 1200},\n",
       "     {'dateTime': '2020-01-15T01:20:00.000', 'level': 'light', 'seconds': 510},\n",
       "     {'dateTime': '2020-01-15T01:28:30.000', 'level': 'deep', 'seconds': 840},\n",
       "     {'dateTime': '2020-01-15T01:42:30.000',\n",
       "      'level': 'light',\n",
       "      'seconds': 2520},\n",
       "     {'dateTime': '2020-01-15T02:24:30.000', 'level': 'rem', 'seconds': 1080},\n",
       "     {'dateTime': '2020-01-15T02:42:30.000',\n",
       "      'level': 'light',\n",
       "      'seconds': 1620},\n",
       "     {'dateTime': '2020-01-15T03:09:30.000', 'level': 'deep', 'seconds': 930},\n",
       "     {'dateTime': '2020-01-15T03:25:00.000',\n",
       "      'level': 'light',\n",
       "      'seconds': 2400},\n",
       "     {'dateTime': '2020-01-15T04:05:00.000', 'level': 'rem', 'seconds': 990},\n",
       "     {'dateTime': '2020-01-15T04:21:30.000',\n",
       "      'level': 'light',\n",
       "      'seconds': 1170},\n",
       "     {'dateTime': '2020-01-15T04:41:00.000', 'level': 'deep', 'seconds': 270},\n",
       "     {'dateTime': '2020-01-15T04:45:30.000', 'level': 'light', 'seconds': 210},\n",
       "     {'dateTime': '2020-01-15T04:49:00.000', 'level': 'deep', 'seconds': 330},\n",
       "     {'dateTime': '2020-01-15T04:54:30.000', 'level': 'light', 'seconds': 990},\n",
       "     {'dateTime': '2020-01-15T05:11:00.000', 'level': 'wake', 'seconds': 2760},\n",
       "     {'dateTime': '2020-01-15T05:57:00.000',\n",
       "      'level': 'light',\n",
       "      'seconds': 4290},\n",
       "     {'dateTime': '2020-01-15T07:08:30.000', 'level': 'rem', 'seconds': 780},\n",
       "     {'dateTime': '2020-01-15T07:21:30.000', 'level': 'light', 'seconds': 870},\n",
       "     {'dateTime': '2020-01-15T07:36:00.000', 'level': 'wake', 'seconds': 450},\n",
       "     {'dateTime': '2020-01-15T07:43:30.000',\n",
       "      'level': 'light',\n",
       "      'seconds': 600}],\n",
       "    'shortData': [{'dateTime': '2020-01-14T23:53:00.000',\n",
       "      'level': 'wake',\n",
       "      'seconds': 120},\n",
       "     {'dateTime': '2020-01-15T01:05:00.000', 'level': 'wake', 'seconds': 30},\n",
       "     {'dateTime': '2020-01-15T01:55:30.000', 'level': 'wake', 'seconds': 60},\n",
       "     {'dateTime': '2020-01-15T02:22:30.000', 'level': 'wake', 'seconds': 30},\n",
       "     {'dateTime': '2020-01-15T02:42:30.000', 'level': 'wake', 'seconds': 30},\n",
       "     {'dateTime': '2020-01-15T03:25:00.000', 'level': 'wake', 'seconds': 60},\n",
       "     {'dateTime': '2020-01-15T04:01:30.000', 'level': 'wake', 'seconds': 30},\n",
       "     {'dateTime': '2020-01-15T04:22:30.000', 'level': 'wake', 'seconds': 30},\n",
       "     {'dateTime': '2020-01-15T04:56:00.000', 'level': 'wake', 'seconds': 150},\n",
       "     {'dateTime': '2020-01-15T06:04:00.000', 'level': 'wake', 'seconds': 30},\n",
       "     {'dateTime': '2020-01-15T06:06:00.000', 'level': 'wake', 'seconds': 60},\n",
       "     {'dateTime': '2020-01-15T06:23:00.000', 'level': 'wake', 'seconds': 120},\n",
       "     {'dateTime': '2020-01-15T06:36:00.000', 'level': 'wake', 'seconds': 60},\n",
       "     {'dateTime': '2020-01-15T06:39:00.000', 'level': 'wake', 'seconds': 30},\n",
       "     {'dateTime': '2020-01-15T06:42:00.000', 'level': 'wake', 'seconds': 30},\n",
       "     {'dateTime': '2020-01-15T06:46:00.000', 'level': 'wake', 'seconds': 60},\n",
       "     {'dateTime': '2020-01-15T07:20:00.000', 'level': 'wake', 'seconds': 90},\n",
       "     {'dateTime': '2020-01-15T07:30:00.000', 'level': 'wake', 'seconds': 180},\n",
       "     {'dateTime': '2020-01-15T07:48:30.000', 'level': 'wake', 'seconds': 90}],\n",
       "    'summary': {'deep': {'count': 5, 'minutes': 54, 'thirtyDayAvgMinutes': 0},\n",
       "     'light': {'count': 28, 'minutes': 276, 'thirtyDayAvgMinutes': 0},\n",
       "     'rem': {'count': 5, 'minutes': 65, 'thirtyDayAvgMinutes': 0},\n",
       "     'wake': {'count': 22, 'minutes': 87, 'thirtyDayAvgMinutes': 0}}},\n",
       "   'logId': 25455855559,\n",
       "   'minutesAfterWakeup': 0,\n",
       "   'minutesAsleep': 395,\n",
       "   'minutesAwake': 87,\n",
       "   'minutesToFallAsleep': 0,\n",
       "   'startTime': '2020-01-14T23:51:00.000',\n",
       "   'timeInBed': 482,\n",
       "   'type': 'stages'}]}"
      ]
     },
     "execution_count": 15,
     "metadata": {},
     "output_type": "execute_result"
    }
   ],
   "source": [
    "# what file did we make?\n",
    "json_data"
   ]
  },
  {
   "cell_type": "code",
   "execution_count": 3,
   "metadata": {},
   "outputs": [
    {
     "name": "stdout",
     "output_type": "stream",
     "text": [
      "sleep\n"
     ]
    }
   ],
   "source": [
    "# let's see what elements do we have\n",
    "for element in json_data:\n",
    "  print(element)"
   ]
  },
  {
   "cell_type": "code",
   "execution_count": 4,
   "metadata": {},
   "outputs": [
    {
     "data": {
      "text/plain": [
       "list"
      ]
     },
     "execution_count": 4,
     "metadata": {},
     "output_type": "execute_result"
    }
   ],
   "source": [
    "# we are interested in sleep! let's focus on that\n",
    "type(json_data['sleep'])"
   ]
  },
  {
   "cell_type": "code",
   "execution_count": 5,
   "metadata": {},
   "outputs": [
    {
     "name": "stdout",
     "output_type": "stream",
     "text": [
      "N of days in json: 3\n"
     ]
    }
   ],
   "source": [
    "# let's find the element related to that day!\n",
    "\n",
    "# 1. let's find how many days are there\n",
    "n_days = len(json_data['sleep'])\n",
    "print('N of days in json: '+str(n_days))"
   ]
  },
  {
   "cell_type": "code",
   "execution_count": 6,
   "metadata": {},
   "outputs": [
    {
     "name": "stdout",
     "output_type": "stream",
     "text": [
      "0: Date of Sleep 2020-01-17\n",
      "1: Date of Sleep 2020-01-16\n",
      "2: Date of Sleep 2020-01-15\n"
     ]
    }
   ],
   "source": [
    "# 2. let's find the index of the day of interest\n",
    "for n in range(n_days):\n",
    "  print(str(n)+': Date of Sleep '+ json_data['sleep'][n]['dateOfSleep'])\n"
   ]
  },
  {
   "cell_type": "code",
   "execution_count": 7,
   "metadata": {},
   "outputs": [
    {
     "name": "stdout",
     "output_type": "stream",
     "text": [
      "Night starts at: 2020-01-15T22:34:00.000\n",
      "Night end at: 2020-01-16T06:16:30.000\n"
     ]
    }
   ],
   "source": [
    "# 3. let's find the time the participant went to bed\n",
    "night_index = 1\n",
    "json_data['sleep'][night_index]['startTime']\n",
    "print('Night starts at: '+json_data['sleep'][night_index]['startTime'])\n",
    "print('Night end at: '+json_data['sleep'][night_index]['endTime'])"
   ]
  },
  {
   "cell_type": "code",
   "execution_count": 8,
   "metadata": {},
   "outputs": [
    {
     "name": "stdout",
     "output_type": "stream",
     "text": [
      "Total time in bed =462\n"
     ]
    }
   ],
   "source": [
    "# 4. total time in bed:\n",
    "hours = 7\n",
    "minutes = 16+26\n",
    "total_time_bed = hours*60 + minutes\n",
    "print('Total time in bed ='+str(total_time_bed))"
   ]
  },
  {
   "cell_type": "code",
   "execution_count": 9,
   "metadata": {},
   "outputs": [],
   "source": [
    "# 5. let's extract the hypnogram !\n",
    "from datetime import datetime\n",
    "import time\n",
    "\n",
    "#'1' = deep (N3) sleep - '2' = light (N1 or N2) sleep - '3' = REM sleep - '4' = awake\n",
    "dic_sleep = {'wake':4 , 'deep':1, 'light':2 , 'rem':3}\n",
    "\n",
    "n_sleep_logs = len(json_data['sleep'][night_index]['levels']['data'])\n",
    "\n",
    "# total n of intervals (30 min each)\n",
    "total_n_intervals = 7*60*2 + (26+16)*2 +1\n",
    "\n",
    "# array of sleep status: from 11pm to 6am (420 minutes)\n",
    "hypno = np.zeros(total_n_intervals)\n",
    "\n",
    "time_start = datetime.strptime('2020-01-15T22:34:00.000', '%Y-%m-%dT%H:%M:%S.%f')\n",
    "\n",
    "current_sample = 0\n",
    "for ind in range(n_sleep_logs):\n",
    "  n_samples_sleep_log = int(json_data['sleep'][night_index]['levels']['data'][ind]['seconds']/30)\n",
    "  sleep_recorded = json_data['sleep'][night_index]['levels']['data'][ind]['level']\n",
    "  hypno[current_sample:current_sample+n_samples_sleep_log] = dic_sleep[sleep_recorded]\n",
    "  current_sample = current_sample+n_samples_sleep_log"
   ]
  },
  {
   "cell_type": "code",
   "execution_count": 10,
   "metadata": {},
   "outputs": [
    {
     "data": {
      "text/plain": [
       "925"
      ]
     },
     "execution_count": 10,
     "metadata": {},
     "output_type": "execute_result"
    }
   ],
   "source": [
    "# 6. let's verify hypnogram is the right length\n",
    "len(hypno)"
   ]
  },
  {
   "cell_type": "code",
   "execution_count": 11,
   "metadata": {},
   "outputs": [],
   "source": [
    "# 7. let's write down the hypnogram to export,\n",
    "# we need to write the phase of sleep (from 1 to 4) from 11:00pm to 6:00am , with sleep phase for each 30 seconds\n",
    "total_number_30sec_int = 7*60*2\n",
    "\n",
    "df = pd.DataFrame(columns = ['IndexTime','SleepPhase'])\n",
    "df['IndexTime'] = range(total_number_30sec_int)\n",
    "\n",
    "# let's cut the first and last minutes of hypno (outside the range of interest)\n",
    "df['SleepPhase'] = hypno[26*2:-(16*2+1)]"
   ]
  },
  {
   "cell_type": "code",
   "execution_count": 12,
   "metadata": {
    "collapsed": true
   },
   "outputs": [],
   "source": [
    "# 8. let's save the final csv file\n",
    "df.to_csv('sensor_2_output.csv', index=False)"
   ]
  },
  {
   "cell_type": "code",
   "execution_count": 13,
   "metadata": {},
   "outputs": [
    {
     "name": "stdout",
     "output_type": "stream",
     "text": [
      "Total length in wake is 71 or the 8%\n",
      "Total length in deep is 67 or the 8%\n",
      "Total length in light is 569 or the 68%\n",
      "Total length in rem is 133 or the 16%\n"
     ]
    }
   ],
   "source": [
    "# 9. let's calculate amount of sleep per phase \n",
    "for sleep_phase in dic_sleep:\n",
    "  print('Total length in '+sleep_phase+' is '+str(np.sum(df['SleepPhase']==dic_sleep[sleep_phase]))+\n",
    "       ' or the '+\"{:.0f}\".format(100*np.sum(df['SleepPhase']==dic_sleep[sleep_phase])/len(df['SleepPhase']))+'%')\n",
    "\n"
   ]
  },
  {
   "cell_type": "code",
   "execution_count": 14,
   "metadata": {},
   "outputs": [
    {
     "data": {
      "text/plain": [
       "840"
      ]
     },
     "execution_count": 14,
     "metadata": {},
     "output_type": "execute_result"
    }
   ],
   "source": [
    "len(df)"
   ]
  },
  {
   "cell_type": "code",
   "execution_count": null,
   "metadata": {},
   "outputs": [],
   "source": []
  },
  {
   "cell_type": "code",
   "execution_count": null,
   "metadata": {
    "collapsed": true
   },
   "outputs": [],
   "source": []
  },
  {
   "cell_type": "code",
   "execution_count": null,
   "metadata": {
    "collapsed": true
   },
   "outputs": [],
   "source": []
  },
  {
   "cell_type": "code",
   "execution_count": null,
   "metadata": {
    "collapsed": true
   },
   "outputs": [],
   "source": []
  },
  {
   "cell_type": "code",
   "execution_count": null,
   "metadata": {
    "collapsed": true
   },
   "outputs": [],
   "source": []
  }
 ],
 "metadata": {
  "kernelspec": {
   "display_name": "Python [conda env:py37]",
   "language": "python",
   "name": "conda-env-py37-py"
  },
  "language_info": {
   "codemirror_mode": {
    "name": "ipython",
    "version": 3
   },
   "file_extension": ".py",
   "mimetype": "text/x-python",
   "name": "python",
   "nbconvert_exporter": "python",
   "pygments_lexer": "ipython3",
   "version": "3.7.4"
  }
 },
 "nbformat": 4,
 "nbformat_minor": 2
}
