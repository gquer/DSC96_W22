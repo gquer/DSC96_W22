{
 "cells": [
  {
   "cell_type": "code",
   "execution_count": null,
   "metadata": {
    "collapsed": true
   },
   "outputs": [],
   "source": [
    "import numpy as np\n",
    "import pandas as pd\n",
    "import matplotlib.pyplot as mpl"
   ]
  },
  {
   "cell_type": "code",
   "execution_count": null,
   "metadata": {},
   "outputs": [],
   "source": []
  },
  {
   "cell_type": "code",
   "execution_count": null,
   "metadata": {
    "collapsed": true
   },
   "outputs": [],
   "source": [
    "# 1. import all hypnograms saved: hypno_sensor1 hypno_sensor2 hypno_GS \n",
    "\n",
    "# my suggestion:\n",
    "# - read the csv file\n",
    "# - transform the SleepPhase column into numpy\n",
    "\n",
    "# you can also create some random hypnogram (made of random number 1 2 3 4), they will be useful to check the differences: hypno_RAND hypno_RAND2\n",
    "\n",
    "# YOUR CODE HERE ..."
   ]
  },
  {
   "cell_type": "code",
   "execution_count": null,
   "metadata": {
    "collapsed": true
   },
   "outputs": [],
   "source": [
    "# 2. let's calculate the norm 0 distance between these hypnograms \n",
    "# if you want to learn more about norms: https://en.wikipedia.org/wiki/Norm_(mathematics)\n",
    "\n",
    "# example of norm 0 distance between two hypnograms (fraction of intervals that are the same)\n",
    "distance_1_2 = np.linalg.norm(hypno_sensor1 - hypno_sensor2,0)/len(hypno_sensor1)\n",
    "\n",
    "# # YOUR CODE HERE ... for all other differences!\n",
    "\n",
    "\n",
    "# are the two sensors different?\n",
    "# YOUR CODE HERE ...\n",
    "\n",
    "# which one is more accurate? is it significantly more accurate?\n",
    "# YOUR CODE HERE ...\n",
    "\n",
    "# what is the distance to a random signal? do we expect it to be this value?\n",
    "# YOUR CODE HERE ..."
   ]
  },
  {
   "cell_type": "code",
   "execution_count": null,
   "metadata": {
    "collapsed": true
   },
   "outputs": [],
   "source": [
    "# 3. let's also print the signals \n",
    "# print the three signals, \n",
    "# and try to print two signals in the same figure so we can check the differences!\n",
    "\n",
    "def plot_hypno(signal,color):\n",
    "  # signal is a numpy array\n",
    "  # color is e.g., 'b', check here for your color: https://matplotlib.org/3.1.0/gallery/color/named_colors.html \n",
    "  x = np.arange(len(signal))\n",
    "  y = signal\n",
    "  \n",
    "  fontsizeV = 12\n",
    "  mpl.plot(x,y,color=color)\n",
    "  mpl.xlabel('Time (30sec intervals)',fontsize=fontsizeV)\n",
    "  mpl.ylabel('Sleep phase',fontsize=fontsizeV)\n",
    "  mpl.yticks([1,2,3,4])\n",
    "  mpl.title('1=deep(N3), 2=light(N1=N2), 3=REM, 4=awake')\n",
    "  mpl.grid(True)\n",
    "  mpl.tight_layout()\n",
    "  \n",
    "# YOUR CODE HERE ... (print all 3 hypnograms!!!)"
   ]
  },
  {
   "cell_type": "code",
   "execution_count": 1,
   "metadata": {},
   "outputs": [],
   "source": [
    "# Bonus point:\n",
    "# 4. Can you design a confusion matrix to better highlight the differences between the sensors?"
   ]
  },
  {
   "cell_type": "code",
   "execution_count": null,
   "metadata": {},
   "outputs": [],
   "source": []
  }
 ],
 "metadata": {
  "kernelspec": {
   "display_name": "Python 3",
   "language": "python",
   "name": "python3"
  },
  "language_info": {
   "codemirror_mode": {
    "name": "ipython",
    "version": 3
   },
   "file_extension": ".py",
   "mimetype": "text/x-python",
   "name": "python",
   "nbconvert_exporter": "python",
   "pygments_lexer": "ipython3",
   "version": "3.8.5"
  }
 },
 "nbformat": 4,
 "nbformat_minor": 2
}
