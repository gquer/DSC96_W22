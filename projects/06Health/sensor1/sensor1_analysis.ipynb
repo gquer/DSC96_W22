{
 "cells": [
  {
   "cell_type": "code",
   "execution_count": null,
   "metadata": {
    "collapsed": true
   },
   "outputs": [],
   "source": [
    "import json\n",
    "import pandas as pd\n",
    "import numpy as np\n",
    "import matplotlib.pyplot as mpl\n",
    "\n",
    "# let's import our file for the analysis:\n",
    "json_file = './data/sensor1_sleep.json'\n",
    "\n",
    "with open(json_file, 'r') as infile:\n",
    "  json_data = json.load(infile)"
   ]
  },
  {
   "cell_type": "code",
   "execution_count": null,
   "metadata": {},
   "outputs": [],
   "source": [
    "# what is this file?\n",
    "type(json_data)"
   ]
  },
  {
   "cell_type": "code",
   "execution_count": null,
   "metadata": {},
   "outputs": [],
   "source": [
    "# let's see what elements do we have in the dictionary\n",
    "for element in json_data:\n",
    "  print(element)"
   ]
  },
  {
   "cell_type": "code",
   "execution_count": null,
   "metadata": {},
   "outputs": [],
   "source": [
    "# we are interested in sleep! let's focus on that element\n",
    "# find out what do we have inside the 'sleep' element\n",
    "type(json_data['sleep'])"
   ]
  },
  {
   "cell_type": "code",
   "execution_count": null,
   "metadata": {},
   "outputs": [],
   "source": [
    "# let's access the first element of this list\n",
    "\n",
    "# -- write your code --\n",
    "\n"
   ]
  },
  {
   "cell_type": "code",
   "execution_count": null,
   "metadata": {
    "collapsed": true
   },
   "outputs": [],
   "source": [
    "# let's find the element related to the day of interest! do we have one element per day?\n",
    "\n",
    "# 1. let's find how many days are there\n",
    "\n",
    "# -- write your code --"
   ]
  },
  {
   "cell_type": "code",
   "execution_count": null,
   "metadata": {},
   "outputs": [],
   "source": [
    "# 2. let's find the index of the day of interest; for each day, let's print bedtime_end , so we will know \n",
    "# which element to use (the night is between 15 and 16 of Jan 2020)\n",
    "\n",
    "# -- write your code --\n"
   ]
  },
  {
   "cell_type": "code",
   "execution_count": null,
   "metadata": {},
   "outputs": [],
   "source": [
    "# 3. let's find the time the participant went to bed, and when s/he woke up \n",
    "night_index = # put here the day you have chosen\n",
    "print('Night starts at: '+json_data['sleep'][night_index]['bedtime_start'])\n",
    "print('Night end at: '+json_data['sleep'][night_index]['bedtime_end'])"
   ]
  },
  {
   "cell_type": "code",
   "execution_count": null,
   "metadata": {},
   "outputs": [],
   "source": [
    "# 4. total time in bed: put the total time spent in bed by the participant (calculate it manually)\n",
    "\n",
    "# -- write your code --"
   ]
  },
  {
   "cell_type": "code",
   "execution_count": null,
   "metadata": {
    "collapsed": true
   },
   "outputs": [],
   "source": [
    "# 5. let's extract the hypnogram !\n",
    "# the code is written for you, but verify step by step what is happening (add comments)!\n",
    "\n",
    "#'1' = deep (N3) sleep - '2' = light (N1 or N2) sleep - '3' = REM sleep - '4' = awake\n",
    "dic_sleep = {'wake':4 , 'deep':1, 'light':2 , 'rem':3}\n",
    "\n",
    "hypno_js = json_data['sleep'][night_index]['hypnogram_5min']\n",
    "\n",
    "hypno = np.array(list(hypno_js)) \n",
    "\n",
    "# we have 1 value every 5 minutes; we need 1 value every 30 seconds (to compare it with gold standard)\n",
    "# let's have each element repeated 10 times (2 per minute)\n",
    "hypno = np.repeat(hypno,10)\n",
    "hypno = hypno.astype(int)"
   ]
  },
  {
   "cell_type": "code",
   "execution_count": null,
   "metadata": {},
   "outputs": [],
   "source": [
    "# 6. let's verify hypnogram is the right length \n",
    "len(hypno)"
   ]
  },
  {
   "cell_type": "code",
   "execution_count": null,
   "metadata": {
    "collapsed": true
   },
   "outputs": [],
   "source": [
    "# 7. let's write down the hypnogram to export,\n",
    "# we need to write the phase of sleep (from 1 to 4) from 11:00pm to 6:00am , with sleep phase for each 30 seconds\n",
    "total_number_30sec_int = 7*60*2\n",
    "\n",
    "df = pd.DataFrame(columns = ['IndexTime','SleepPhase'])\n",
    "df['IndexTime'] = range(total_number_30sec_int)\n",
    "\n",
    "# let's cut the first and last minutes of hypno (outside the range of interest)\n",
    "minutes_before_11pm = # -- calculate it manually\n",
    "minutes_after_6am = # -- calculate it manually\n",
    "\n",
    "# I consider only hypno in the range of interest\n",
    "df['SleepPhase'] = hypno[minutes_before_11pm*2:-minutes_after_6am*2]\n"
   ]
  },
  {
   "cell_type": "code",
   "execution_count": null,
   "metadata": {
    "collapsed": true
   },
   "outputs": [],
   "source": [
    "# 8. let's save the final csv file\n",
    "df.to_csv('sensor_1_output.csv', index=False)"
   ]
  },
  {
   "cell_type": "code",
   "execution_count": null,
   "metadata": {},
   "outputs": [],
   "source": [
    "# 9. let's calculate amount of sleep per phase\n",
    "# in number of intervals\n",
    "# in percentage over the 7 hours of analysis\n",
    "\n",
    "# -- write your code --"
   ]
  },
  {
   "cell_type": "code",
   "execution_count": null,
   "metadata": {
    "collapsed": true
   },
   "outputs": [],
   "source": [
    "# 10. let's print the hypnogram! \n",
    "\n",
    "def plot_hypno(signal): #,color\n",
    "  x = np.arange(len(signal))\n",
    "  y = signal\n",
    "  \n",
    "  fontsizeV = 12\n",
    "  mpl.plot(x,y) #color=color\n",
    "  mpl.xlabel('Time (30sec intervals)',fontsize=fontsizeV)\n",
    "  mpl.ylabel('Sleep phase',fontsize=fontsizeV)\n",
    "  mpl.yticks([1,2,3,4])\n",
    "  mpl.title('1=deep(N3), 2=light(N1=N2), 3=REM, 4=awake')\n",
    "  mpl.grid(True)\n",
    "  mpl.tight_layout()\n",
    "  \n",
    "# -- write your code --"
   ]
  }
 ],
 "metadata": {
  "kernelspec": {
   "display_name": "Python 3",
   "language": "python",
   "name": "python3"
  },
  "language_info": {
   "codemirror_mode": {
    "name": "ipython",
    "version": 3
   },
   "file_extension": ".py",
   "mimetype": "text/x-python",
   "name": "python",
   "nbconvert_exporter": "python",
   "pygments_lexer": "ipython3",
   "version": "3.8.5"
  }
 },
 "nbformat": 4,
 "nbformat_minor": 2
}
