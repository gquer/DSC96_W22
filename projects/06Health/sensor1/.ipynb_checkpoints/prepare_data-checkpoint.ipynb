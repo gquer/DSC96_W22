{
 "cells": [
  {
   "cell_type": "code",
   "execution_count": 16,
   "metadata": {
    "collapsed": true
   },
   "outputs": [],
   "source": [
    "import json\n",
    "import pandas as pd\n",
    "import numpy as np\n",
    "import matplotlib as mpl\n",
    "\n",
    "# let's import our file for the analysis:\n",
    "json_file = './data/sensor1_sleep.json'\n",
    "\n",
    "with open(json_file, 'r') as infile:\n",
    "  json_data = json.load(infile)"
   ]
  },
  {
   "cell_type": "code",
   "execution_count": 2,
   "metadata": {},
   "outputs": [
    {
     "data": {
      "text/plain": [
       "dict"
      ]
     },
     "execution_count": 2,
     "metadata": {},
     "output_type": "execute_result"
    }
   ],
   "source": [
    "# what is this file?\n",
    "type(json_data)"
   ]
  },
  {
   "cell_type": "code",
   "execution_count": 3,
   "metadata": {},
   "outputs": [
    {
     "name": "stdout",
     "output_type": "stream",
     "text": [
      "readiness\n",
      "sleep\n",
      "restful_periods\n"
     ]
    }
   ],
   "source": [
    "# let's see what elements do we have in the dictuionary\n",
    "for element in json_data:\n",
    "  print(element)"
   ]
  },
  {
   "cell_type": "code",
   "execution_count": 4,
   "metadata": {},
   "outputs": [
    {
     "data": {
      "text/plain": [
       "list"
      ]
     },
     "execution_count": 4,
     "metadata": {},
     "output_type": "execute_result"
    }
   ],
   "source": [
    "# we are interested in sleep! let's focus on that element\n",
    "# find out what do we have inside the 'sleep' element\n",
    "type(json_data['sleep'])"
   ]
  },
  {
   "cell_type": "code",
   "execution_count": 5,
   "metadata": {},
   "outputs": [
    {
     "data": {
      "text/plain": [
       "{u'awake': 2760,\n",
       " u'bedtime_end': u'2020-01-14T05:31:00-08:00',\n",
       " u'bedtime_end_delta': 24480,\n",
       " u'bedtime_start': u'2020-01-13T22:41:00-08:00',\n",
       " u'bedtime_start_delta': 60,\n",
       " u'breath_average': 14.125,\n",
       " u'deep': 3990,\n",
       " u'duration': 24420,\n",
       " u'efficiency': 89,\n",
       " u'hr_5min': [0,\n",
       "  53,\n",
       "  54,\n",
       "  56,\n",
       "  56,\n",
       "  55,\n",
       "  56,\n",
       "  56,\n",
       "  56,\n",
       "  56,\n",
       "  55,\n",
       "  55,\n",
       "  56,\n",
       "  61,\n",
       "  62,\n",
       "  61,\n",
       "  60,\n",
       "  60,\n",
       "  60,\n",
       "  59,\n",
       "  59,\n",
       "  59,\n",
       "  60,\n",
       "  60,\n",
       "  57,\n",
       "  55,\n",
       "  55,\n",
       "  56,\n",
       "  57,\n",
       "  56,\n",
       "  56,\n",
       "  0,\n",
       "  57,\n",
       "  58,\n",
       "  63,\n",
       "  0,\n",
       "  53,\n",
       "  54,\n",
       "  56,\n",
       "  56,\n",
       "  55,\n",
       "  56,\n",
       "  56,\n",
       "  56,\n",
       "  56,\n",
       "  55,\n",
       "  55,\n",
       "  56,\n",
       "  61,\n",
       "  62,\n",
       "  61,\n",
       "  60,\n",
       "  60,\n",
       "  60,\n",
       "  59,\n",
       "  59,\n",
       "  59,\n",
       "  60,\n",
       "  60,\n",
       "  57,\n",
       "  55,\n",
       "  55,\n",
       "  56,\n",
       "  57,\n",
       "  56,\n",
       "  56,\n",
       "  0,\n",
       "  57,\n",
       "  58,\n",
       "  63],\n",
       " u'hr_average': 57.54,\n",
       " u'hr_lowest': 53,\n",
       " u'hypnogram_5min': u'2222211111444422222344222222222221122222224333322222333332222232222222111113333444',\n",
       " u'is_longest': 1,\n",
       " u'light': 12930,\n",
       " u'midpoint_at_delta': 12310,\n",
       " u'midpoint_time': 12790,\n",
       " u'onset_latency': 30,\n",
       " u'period_id': 0,\n",
       " u'rem': 4740,\n",
       " u'restless': 31,\n",
       " u'rmssd': 57,\n",
       " u'rmssd_5min': [0,\n",
       "  53,\n",
       "  54,\n",
       "  56,\n",
       "  56,\n",
       "  55,\n",
       "  56,\n",
       "  56,\n",
       "  56,\n",
       "  56,\n",
       "  55,\n",
       "  55,\n",
       "  56,\n",
       "  61,\n",
       "  62,\n",
       "  61,\n",
       "  60,\n",
       "  60,\n",
       "  60,\n",
       "  59,\n",
       "  59,\n",
       "  59,\n",
       "  60,\n",
       "  60,\n",
       "  57,\n",
       "  55,\n",
       "  55,\n",
       "  56,\n",
       "  57,\n",
       "  56,\n",
       "  56,\n",
       "  0,\n",
       "  57,\n",
       "  58,\n",
       "  63,\n",
       "  0,\n",
       "  53,\n",
       "  54,\n",
       "  56,\n",
       "  56,\n",
       "  55,\n",
       "  56,\n",
       "  56,\n",
       "  56,\n",
       "  56,\n",
       "  55,\n",
       "  55,\n",
       "  56,\n",
       "  61,\n",
       "  62,\n",
       "  61,\n",
       "  60,\n",
       "  60,\n",
       "  60,\n",
       "  59,\n",
       "  59,\n",
       "  59,\n",
       "  60,\n",
       "  60,\n",
       "  57,\n",
       "  55,\n",
       "  55,\n",
       "  56,\n",
       "  57,\n",
       "  56,\n",
       "  56,\n",
       "  0,\n",
       "  57,\n",
       "  58,\n",
       "  63],\n",
       " u'score': 71,\n",
       " u'score_alignment': 81,\n",
       " u'score_deep': 73,\n",
       " u'score_disturbances': 71,\n",
       " u'score_efficiency': 80,\n",
       " u'score_latency': 69,\n",
       " u'score_rem': 69,\n",
       " u'score_total': 69,\n",
       " u'summary_date': u'2020-01-13',\n",
       " u'temperature_delta': -0.03,\n",
       " u'temperature_deviation': -0.03,\n",
       " u'temperature_trend_deviation': 0.03,\n",
       " u'timezone': -480,\n",
       " u'total': 21560}"
      ]
     },
     "execution_count": 5,
     "metadata": {},
     "output_type": "execute_result"
    }
   ],
   "source": [
    "# let's access the first element of this list\n",
    "json_data['sleep'][0]"
   ]
  },
  {
   "cell_type": "code",
   "execution_count": 6,
   "metadata": {
    "collapsed": true
   },
   "outputs": [],
   "source": [
    "# let's find the element related to the day of interest!\n",
    "\n",
    "# 1. let's find how many days are there\n",
    "n_days = len(json_data['sleep'])"
   ]
  },
  {
   "cell_type": "code",
   "execution_count": 7,
   "metadata": {},
   "outputs": [
    {
     "name": "stdout",
     "output_type": "stream",
     "text": [
      "0: night ended on 2020-01-14T05:31:00-08:00\n",
      "1: night ended on 2020-01-15T07:38:02-08:00\n",
      "2: night ended on 2020-01-16T06:09:04-08:00\n",
      "3: night ended on 2020-01-17T06:48:00-08:00\n",
      "4: night ended on 2020-01-18T06:52:00-08:00\n"
     ]
    }
   ],
   "source": [
    "# 2. let's find the index of the day of interest; for each day, we can look at bedtime_end \n",
    "for n in range(n_days):\n",
    "  print(str(n)+': night ended on '+ json_data['sleep'][n]['bedtime_end'])\n"
   ]
  },
  {
   "cell_type": "code",
   "execution_count": 8,
   "metadata": {},
   "outputs": [
    {
     "name": "stdout",
     "output_type": "stream",
     "text": [
      "Night starts at: 2020-01-15T22:54:04-08:00\n",
      "Night end at: 2020-01-16T06:09:04-08:00\n"
     ]
    }
   ],
   "source": [
    "# 3. let's find the time the participant went to bed, and when s/he woke up\n",
    "night_index = 2\n",
    "print('Night starts at: '+json_data['sleep'][night_index]['bedtime_start'])\n",
    "print('Night end at: '+json_data['sleep'][night_index]['bedtime_end'])"
   ]
  },
  {
   "cell_type": "code",
   "execution_count": 9,
   "metadata": {},
   "outputs": [
    {
     "name": "stdout",
     "output_type": "stream",
     "text": [
      "Total time in bed =435\n"
     ]
    }
   ],
   "source": [
    "# 4. total time in bed:\n",
    "hours = 7\n",
    "minutes = 15\n",
    "total_time_bed = hours*60 + minutes\n",
    "print('Total time in bed ='+str(total_time_bed))"
   ]
  },
  {
   "cell_type": "code",
   "execution_count": 10,
   "metadata": {
    "collapsed": true
   },
   "outputs": [],
   "source": [
    "# 5. let's extract the hypnogram !\n",
    "\n",
    "#'1' = deep (N3) sleep - '2' = light (N1 or N2) sleep - '3' = REM sleep - '4' = awake\n",
    "dic_sleep = {'wake':4 , 'deep':1, 'light':2 , 'rem':3}\n",
    "\n",
    "hypno_js = json_data['sleep'][night_index]['hypnogram_5min']\n",
    "\n",
    "hypno = np.array(list(hypno_js)) \n",
    "# let's have each element repeated 10 times (2 per minute)\n",
    "hypno = np.repeat(hypno,10)\n",
    "hypno = hypno.astype(int)"
   ]
  },
  {
   "cell_type": "code",
   "execution_count": 11,
   "metadata": {},
   "outputs": [
    {
     "data": {
      "text/plain": [
       "870"
      ]
     },
     "execution_count": 11,
     "metadata": {},
     "output_type": "execute_result"
    }
   ],
   "source": [
    "# 6. let's verify hypnogram is the right length (for this sensor it has one value every 5 minutes)\n",
    "len(hypno)"
   ]
  },
  {
   "cell_type": "code",
   "execution_count": 12,
   "metadata": {
    "collapsed": true
   },
   "outputs": [],
   "source": [
    "# 7. let's write down the hypnogram to export,\n",
    "# we need to write the phase of sleep (from 1 to 4) from 11:00pm to 6:00am , with sleep phase for each 30 seconds\n",
    "total_number_30sec_int = 7*60*2\n",
    "\n",
    "df = pd.DataFrame(columns = ['IndexTime','SleepPhase'])\n",
    "df['IndexTime'] = range(total_number_30sec_int)\n",
    "\n",
    "# let's cut the first and last minutes of hypno (outside the range of interest)\n",
    "df['SleepPhase'] = hypno[6*2:-9*2]\n"
   ]
  },
  {
   "cell_type": "code",
   "execution_count": 13,
   "metadata": {
    "collapsed": true
   },
   "outputs": [],
   "source": [
    "# 8. let's save the final csv file\n",
    "df.to_csv('sensor_1_output.csv', index=False)"
   ]
  },
  {
   "cell_type": "code",
   "execution_count": 14,
   "metadata": {},
   "outputs": [
    {
     "name": "stdout",
     "output_type": "stream",
     "text": [
      "Total length in light is 340 or the 40%\n",
      "Total length in wake is 98 or the 11%\n",
      "Total length in deep is 170 or the 20%\n",
      "Total length in rem is 232 or the 27%\n"
     ]
    }
   ],
   "source": [
    "# 9. let's calculate amount of sleep per phase \n",
    "for sleep_phase in dic_sleep:\n",
    "  print('Total length in '+sleep_phase+' is '+str(np.sum(df['SleepPhase']==dic_sleep[sleep_phase]))+\n",
    "       ' or the '+\"{:.0f}\".format(100*np.sum(df['SleepPhase']==dic_sleep[sleep_phase])/len(df['SleepPhase']))+'%')\n"
   ]
  },
  {
   "cell_type": "code",
   "execution_count": 15,
   "metadata": {},
   "outputs": [
    {
     "data": {
      "text/plain": [
       "array([4, 4, 4, 4, 4, 4, 4, 4, 4, 4, 4, 4, 4, 4, 4, 4, 4, 4, 4, 4, 4, 4, 4,\n",
       "       4, 4, 4, 4, 4, 4, 4, 4, 4, 4, 4, 4, 4, 4, 4, 4, 4, 2, 2, 2, 2, 2, 2,\n",
       "       2, 2, 2, 2, 2, 2, 2, 2, 2, 2, 2, 2, 2, 2, 2, 2, 2, 2, 2, 2, 2, 2, 2,\n",
       "       2, 1, 1, 1, 1, 1, 1, 1, 1, 1, 1, 1, 1, 1, 1, 1, 1, 1, 1, 1, 1, 1, 1,\n",
       "       1, 1, 1, 1, 1, 1, 1, 1, 1, 1, 1, 1, 1, 1, 1, 1, 1, 1, 1, 1, 1, 1, 1,\n",
       "       1, 1, 1, 1, 1, 1, 1, 1, 1, 1, 1, 1, 1, 1, 1, 2, 2, 2, 2, 2, 2, 2, 2,\n",
       "       2, 2, 2, 2, 2, 2, 2, 2, 2, 2, 2, 2, 2, 2, 2, 2, 2, 2, 2, 2, 2, 2, 1,\n",
       "       1, 1, 1, 1, 1, 1, 1, 1, 1, 1, 1, 1, 1, 1, 1, 1, 1, 1, 1, 2, 2, 2, 2,\n",
       "       2, 2, 2, 2, 2, 2, 2, 2, 2, 2, 2, 2, 2, 2, 2, 2, 2, 2, 2, 2, 2, 2, 2,\n",
       "       2, 2, 2, 3, 3, 3, 3, 3, 3, 3, 3, 3, 3, 3, 3, 3, 3, 3, 3, 3, 3, 3, 3,\n",
       "       3, 3, 3, 3, 3, 3, 3, 3, 3, 3, 3, 3, 3, 3, 3, 3, 3, 3, 3, 3, 1, 1, 1,\n",
       "       1, 1, 1, 1, 1, 1, 1, 1, 1, 1, 1, 1, 1, 1, 1, 1, 1, 1, 1, 1, 1, 1, 1,\n",
       "       1, 1, 1, 1, 1, 1, 1, 1, 1, 1, 1, 1, 1, 1, 1, 1, 1, 1, 1, 1, 1, 1, 1,\n",
       "       1, 1, 1, 1, 1, 1, 1, 1, 1, 1, 1, 1, 1, 1, 1, 1, 1, 1, 1, 1, 1, 2, 2,\n",
       "       2, 2, 2, 2, 2, 2, 2, 2, 2, 2, 2, 2, 2, 2, 2, 2, 2, 2, 2, 2, 2, 2, 2,\n",
       "       2, 2, 2, 2, 2, 1, 1, 1, 1, 1, 1, 1, 1, 1, 1, 4, 4, 4, 4, 4, 4, 4, 4,\n",
       "       4, 4, 2, 2, 2, 2, 2, 2, 2, 2, 2, 2, 2, 2, 2, 2, 2, 2, 2, 2, 2, 2, 4,\n",
       "       4, 4, 4, 4, 4, 4, 4, 4, 4, 4, 4, 4, 4, 4, 4, 4, 4, 4, 4, 4, 4, 4, 4,\n",
       "       4, 4, 4, 4, 4, 4, 4, 4, 4, 4, 4, 4, 4, 4, 4, 4, 4, 4, 4, 4, 4, 4, 4,\n",
       "       4, 4, 4, 2, 2, 2, 2, 2, 2, 2, 2, 2, 2, 2, 2, 2, 2, 2, 2, 2, 2, 2, 2,\n",
       "       2, 2, 2, 2, 2, 2, 2, 2, 2, 2, 2, 2, 2, 2, 2, 2, 2, 2, 2, 2, 2, 2, 2,\n",
       "       2, 2, 2, 2, 2, 2, 2, 2, 2, 2, 2, 2, 2, 2, 2, 2, 2, 2, 2, 2, 2, 2, 2,\n",
       "       2, 2, 2, 2, 3, 3, 3, 3, 3, 3, 3, 3, 3, 3, 3, 3, 3, 3, 3, 3, 3, 3, 3,\n",
       "       3, 3, 3, 3, 3, 3, 3, 3, 3, 3, 3, 3, 3, 3, 3, 3, 3, 3, 3, 3, 3, 3, 3,\n",
       "       3, 3, 3, 3, 3, 3, 3, 3, 3, 3, 3, 3, 3, 3, 3, 3, 3, 3, 3, 3, 3, 3, 3,\n",
       "       3, 3, 3, 3, 3, 2, 2, 2, 2, 2, 2, 2, 2, 2, 2, 2, 2, 2, 2, 2, 2, 2, 2,\n",
       "       2, 2, 2, 2, 2, 2, 2, 2, 2, 2, 2, 2, 2, 2, 2, 2, 2, 2, 2, 2, 2, 2, 1,\n",
       "       1, 1, 1, 1, 1, 1, 1, 1, 1, 2, 2, 2, 2, 2, 2, 2, 2, 2, 2, 2, 2, 2, 2,\n",
       "       2, 2, 2, 2, 2, 2, 2, 2, 2, 2, 2, 2, 2, 2, 2, 2, 2, 2, 2, 2, 2, 2, 2,\n",
       "       2, 2, 2, 2, 2, 2, 2, 2, 2, 2, 2, 2, 2, 2, 2, 2, 2, 2, 2, 2, 2, 2, 2,\n",
       "       2, 2, 2, 2, 2, 2, 2, 2, 2, 2, 2, 2, 2, 2, 2, 2, 2, 2, 2, 2, 3, 3, 3,\n",
       "       3, 3, 3, 3, 3, 3, 3, 3, 3, 3, 3, 3, 3, 3, 3, 3, 3, 4, 4, 4, 4, 4, 4,\n",
       "       4, 4, 4, 4, 2, 2, 2, 2, 2, 2, 2, 2, 2, 2, 3, 3, 3, 3, 3, 3, 3, 3, 3,\n",
       "       3, 3, 3, 3, 3, 3, 3, 3, 3, 3, 3, 3, 3, 3, 3, 3, 3, 3, 3, 3, 3, 3, 3,\n",
       "       3, 3, 3, 3, 3, 3, 3, 3, 3, 3, 3, 3, 3, 3, 3, 3, 3, 3, 3, 3, 3, 3, 3,\n",
       "       3, 3, 3, 3, 3, 3, 3, 3, 3, 3, 3, 3, 3, 3, 3, 3, 3, 3, 3, 3, 3, 3, 3,\n",
       "       3, 3, 3, 3, 3, 3, 3, 3, 3, 3, 3, 3, 3, 3, 3, 3, 3, 3, 3, 3, 3, 3, 3,\n",
       "       3, 3, 3, 3, 3, 3, 3, 3, 3, 4, 4, 4, 4, 4, 4, 4, 4, 4, 4])"
      ]
     },
     "execution_count": 15,
     "metadata": {},
     "output_type": "execute_result"
    }
   ],
   "source": [
    "hypno"
   ]
  },
  {
   "cell_type": "code",
   "execution_count": null,
   "metadata": {
    "collapsed": true
   },
   "outputs": [],
   "source": []
  },
  {
   "cell_type": "code",
   "execution_count": null,
   "metadata": {
    "collapsed": true
   },
   "outputs": [],
   "source": []
  },
  {
   "cell_type": "code",
   "execution_count": 33,
   "metadata": {
    "collapsed": true
   },
   "outputs": [],
   "source": [
    "# sample output\n",
    "total_number_30sec_int = 7*60*2\n",
    "\n",
    "df = pd.DataFrame(columns = ['IndexTime','SleepPhase'])\n",
    "df['IndexTime'] = range(total_number_30sec_int)\n",
    "\n",
    "# let's cut the first and last minutes of hypno (outside the range of interest)\n",
    "df['SleepPhase'] = np.random.randint(low=1, high=5,size=total_number_30sec_int)\n"
   ]
  },
  {
   "cell_type": "code",
   "execution_count": 34,
   "metadata": {},
   "outputs": [
    {
     "data": {
      "text/plain": [
       "0      4\n",
       "1      3\n",
       "2      1\n",
       "3      4\n",
       "4      1\n",
       "5      4\n",
       "6      4\n",
       "7      4\n",
       "8      4\n",
       "9      4\n",
       "10     4\n",
       "11     3\n",
       "12     4\n",
       "13     3\n",
       "14     2\n",
       "15     2\n",
       "16     1\n",
       "17     3\n",
       "18     4\n",
       "19     2\n",
       "20     3\n",
       "21     3\n",
       "22     3\n",
       "23     2\n",
       "24     3\n",
       "25     2\n",
       "26     3\n",
       "27     3\n",
       "28     4\n",
       "29     2\n",
       "      ..\n",
       "810    3\n",
       "811    4\n",
       "812    2\n",
       "813    2\n",
       "814    1\n",
       "815    3\n",
       "816    1\n",
       "817    1\n",
       "818    1\n",
       "819    2\n",
       "820    4\n",
       "821    4\n",
       "822    4\n",
       "823    3\n",
       "824    1\n",
       "825    3\n",
       "826    1\n",
       "827    3\n",
       "828    4\n",
       "829    3\n",
       "830    1\n",
       "831    2\n",
       "832    3\n",
       "833    3\n",
       "834    3\n",
       "835    4\n",
       "836    3\n",
       "837    3\n",
       "838    4\n",
       "839    3\n",
       "Name: SleepPhase, Length: 840, dtype: int64"
      ]
     },
     "execution_count": 34,
     "metadata": {},
     "output_type": "execute_result"
    }
   ],
   "source": [
    "df['SleepPhase']"
   ]
  },
  {
   "cell_type": "code",
   "execution_count": 35,
   "metadata": {
    "collapsed": true
   },
   "outputs": [],
   "source": [
    "# 8. let's save the final csv file\n",
    "df.to_csv('sensor_RAND2_output.csv', index=False)"
   ]
  },
  {
   "cell_type": "code",
   "execution_count": null,
   "metadata": {
    "collapsed": true
   },
   "outputs": [],
   "source": []
  }
 ],
 "metadata": {
  "kernelspec": {
   "display_name": "Python [conda env:anaconda]",
   "language": "python",
   "name": "conda-env-anaconda-py"
  },
  "language_info": {
   "codemirror_mode": {
    "name": "ipython",
    "version": 2
   },
   "file_extension": ".py",
   "mimetype": "text/x-python",
   "name": "python",
   "nbconvert_exporter": "python",
   "pygments_lexer": "ipython2",
   "version": "2.7.6"
  }
 },
 "nbformat": 4,
 "nbformat_minor": 2
}
