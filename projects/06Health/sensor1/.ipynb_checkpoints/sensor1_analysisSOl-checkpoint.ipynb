{
 "cells": [
  {
   "cell_type": "code",
   "execution_count": 37,
   "metadata": {},
   "outputs": [],
   "source": [
    "import json\n",
    "import pandas as pd\n",
    "import numpy as np\n",
    "import matplotlib.pyplot as mpl\n",
    "\n",
    "# let's import our file for the analysis:\n",
    "json_file = './data/sensor1_sleep.json'\n",
    "\n",
    "with open(json_file, 'r') as infile:\n",
    "  json_data = json.load(infile)"
   ]
  },
  {
   "cell_type": "code",
   "execution_count": 2,
   "metadata": {},
   "outputs": [
    {
     "data": {
      "text/plain": [
       "dict"
      ]
     },
     "execution_count": 2,
     "metadata": {},
     "output_type": "execute_result"
    }
   ],
   "source": [
    "# what is this file?\n",
    "type(json_data)"
   ]
  },
  {
   "cell_type": "code",
   "execution_count": 3,
   "metadata": {},
   "outputs": [
    {
     "name": "stdout",
     "output_type": "stream",
     "text": [
      "readiness\n",
      "restful_periods\n",
      "sleep\n"
     ]
    }
   ],
   "source": [
    "# let's see what elements do we have in the dictionary\n",
    "for element in json_data:\n",
    "  print(element)"
   ]
  },
  {
   "cell_type": "code",
   "execution_count": 4,
   "metadata": {},
   "outputs": [
    {
     "data": {
      "text/plain": [
       "list"
      ]
     },
     "execution_count": 4,
     "metadata": {},
     "output_type": "execute_result"
    }
   ],
   "source": [
    "# we are interested in sleep! let's focus on that element\n",
    "# find out what do we have inside the 'sleep' element\n",
    "type(json_data['sleep'])"
   ]
  },
  {
   "cell_type": "code",
   "execution_count": 5,
   "metadata": {},
   "outputs": [
    {
     "data": {
      "text/plain": [
       "{'awake': 2760,\n",
       " 'bedtime_end': '2020-01-14T05:31:00-08:00',\n",
       " 'bedtime_end_delta': 24480,\n",
       " 'bedtime_start': '2020-01-13T22:41:00-08:00',\n",
       " 'bedtime_start_delta': 60,\n",
       " 'breath_average': 14.125,\n",
       " 'deep': 3990,\n",
       " 'duration': 24420,\n",
       " 'efficiency': 89,\n",
       " 'hr_5min': [0,\n",
       "  53,\n",
       "  54,\n",
       "  56,\n",
       "  56,\n",
       "  55,\n",
       "  56,\n",
       "  56,\n",
       "  56,\n",
       "  56,\n",
       "  55,\n",
       "  55,\n",
       "  56,\n",
       "  61,\n",
       "  62,\n",
       "  61,\n",
       "  60,\n",
       "  60,\n",
       "  60,\n",
       "  59,\n",
       "  59,\n",
       "  59,\n",
       "  60,\n",
       "  60,\n",
       "  57,\n",
       "  55,\n",
       "  55,\n",
       "  56,\n",
       "  57,\n",
       "  56,\n",
       "  56,\n",
       "  0,\n",
       "  57,\n",
       "  58,\n",
       "  63,\n",
       "  0,\n",
       "  53,\n",
       "  54,\n",
       "  56,\n",
       "  56,\n",
       "  55,\n",
       "  56,\n",
       "  56,\n",
       "  56,\n",
       "  56,\n",
       "  55,\n",
       "  55,\n",
       "  56,\n",
       "  61,\n",
       "  62,\n",
       "  61,\n",
       "  60,\n",
       "  60,\n",
       "  60,\n",
       "  59,\n",
       "  59,\n",
       "  59,\n",
       "  60,\n",
       "  60,\n",
       "  57,\n",
       "  55,\n",
       "  55,\n",
       "  56,\n",
       "  57,\n",
       "  56,\n",
       "  56,\n",
       "  0,\n",
       "  57,\n",
       "  58,\n",
       "  63],\n",
       " 'hr_average': 57.54,\n",
       " 'hr_lowest': 53,\n",
       " 'hypnogram_5min': '2222211111444422222344222222222221122222224333322222333332222232222222111113333444',\n",
       " 'is_longest': 1,\n",
       " 'light': 12930,\n",
       " 'midpoint_at_delta': 12310,\n",
       " 'midpoint_time': 12790,\n",
       " 'onset_latency': 30,\n",
       " 'period_id': 0,\n",
       " 'rem': 4740,\n",
       " 'restless': 31,\n",
       " 'rmssd': 57,\n",
       " 'rmssd_5min': [0,\n",
       "  53,\n",
       "  54,\n",
       "  56,\n",
       "  56,\n",
       "  55,\n",
       "  56,\n",
       "  56,\n",
       "  56,\n",
       "  56,\n",
       "  55,\n",
       "  55,\n",
       "  56,\n",
       "  61,\n",
       "  62,\n",
       "  61,\n",
       "  60,\n",
       "  60,\n",
       "  60,\n",
       "  59,\n",
       "  59,\n",
       "  59,\n",
       "  60,\n",
       "  60,\n",
       "  57,\n",
       "  55,\n",
       "  55,\n",
       "  56,\n",
       "  57,\n",
       "  56,\n",
       "  56,\n",
       "  0,\n",
       "  57,\n",
       "  58,\n",
       "  63,\n",
       "  0,\n",
       "  53,\n",
       "  54,\n",
       "  56,\n",
       "  56,\n",
       "  55,\n",
       "  56,\n",
       "  56,\n",
       "  56,\n",
       "  56,\n",
       "  55,\n",
       "  55,\n",
       "  56,\n",
       "  61,\n",
       "  62,\n",
       "  61,\n",
       "  60,\n",
       "  60,\n",
       "  60,\n",
       "  59,\n",
       "  59,\n",
       "  59,\n",
       "  60,\n",
       "  60,\n",
       "  57,\n",
       "  55,\n",
       "  55,\n",
       "  56,\n",
       "  57,\n",
       "  56,\n",
       "  56,\n",
       "  0,\n",
       "  57,\n",
       "  58,\n",
       "  63],\n",
       " 'score': 71,\n",
       " 'score_alignment': 81,\n",
       " 'score_deep': 73,\n",
       " 'score_disturbances': 71,\n",
       " 'score_efficiency': 80,\n",
       " 'score_latency': 69,\n",
       " 'score_rem': 69,\n",
       " 'score_total': 69,\n",
       " 'summary_date': '2020-01-13',\n",
       " 'temperature_delta': -0.03,\n",
       " 'temperature_deviation': -0.03,\n",
       " 'temperature_trend_deviation': 0.03,\n",
       " 'timezone': -480,\n",
       " 'total': 21560}"
      ]
     },
     "execution_count": 5,
     "metadata": {},
     "output_type": "execute_result"
    }
   ],
   "source": [
    "# let's access the first element of this list\n",
    "\n",
    "# -- write your code --\n",
    "json_data['sleep'][0]\n"
   ]
  },
  {
   "cell_type": "code",
   "execution_count": 10,
   "metadata": {},
   "outputs": [
    {
     "name": "stdout",
     "output_type": "stream",
     "text": [
      "N days  = 5\n"
     ]
    }
   ],
   "source": [
    "# let's find the element related to the day of interest! do we have one element per day?\n",
    "\n",
    "# 1. let's find how many days are there\n",
    "\n",
    "# -- write your code --\n",
    "print('N days  = '+str(len(json_data['sleep'])))\n"
   ]
  },
  {
   "cell_type": "code",
   "execution_count": 11,
   "metadata": {},
   "outputs": [
    {
     "data": {
      "text/plain": [
       "{'awake': 3660,\n",
       " 'bedtime_end': '2020-01-16T06:09:04-08:00',\n",
       " 'bedtime_end_delta': 22144,\n",
       " 'bedtime_start': '2020-01-15T22:54:04-08:00',\n",
       " 'bedtime_start_delta': -3956,\n",
       " 'breath_average': 12.625,\n",
       " 'deep': 4550,\n",
       " 'duration': 22100,\n",
       " 'efficiency': 80,\n",
       " 'hr_5min': [55,\n",
       "  55,\n",
       "  55,\n",
       "  55,\n",
       "  55,\n",
       "  56,\n",
       "  51,\n",
       "  51,\n",
       "  51,\n",
       "  52,\n",
       "  53,\n",
       "  51,\n",
       "  50,\n",
       "  51,\n",
       "  52,\n",
       "  51,\n",
       "  51,\n",
       "  51,\n",
       "  56,\n",
       "  58,\n",
       "  62,\n",
       "  57,\n",
       "  56,\n",
       "  55,\n",
       "  55,\n",
       "  53,\n",
       "  52,\n",
       "  52,\n",
       "  51,\n",
       "  52,\n",
       "  52,\n",
       "  59,\n",
       "  58,\n",
       "  57,\n",
       "  57,\n",
       "  56,\n",
       "  56,\n",
       "  59,\n",
       "  56,\n",
       "  58,\n",
       "  57,\n",
       "  58,\n",
       "  59,\n",
       "  58,\n",
       "  58,\n",
       "  59,\n",
       "  60,\n",
       "  58,\n",
       "  53,\n",
       "  52,\n",
       "  51,\n",
       "  51,\n",
       "  55,\n",
       "  60,\n",
       "  55,\n",
       "  55,\n",
       "  56,\n",
       "  62,\n",
       "  56,\n",
       "  61,\n",
       "  55,\n",
       "  53,\n",
       "  52,\n",
       "  53,\n",
       "  54,\n",
       "  54,\n",
       "  54,\n",
       "  57,\n",
       "  59,\n",
       "  59,\n",
       "  57,\n",
       "  56,\n",
       "  57,\n",
       "  57,\n",
       "  55,\n",
       "  55,\n",
       "  55,\n",
       "  56,\n",
       "  56,\n",
       "  55,\n",
       "  54,\n",
       "  57,\n",
       "  56,\n",
       "  57,\n",
       "  57,\n",
       "  56,\n",
       "  0,\n",
       "  0],\n",
       " 'hr_average': 55.27,\n",
       " 'hr_lowest': 50,\n",
       " 'hypnogram_5min': '444422211111122211222333311111112221422444442222222333333322221222222223342333333333334',\n",
       " 'is_longest': 1,\n",
       " 'light': 9340,\n",
       " 'midpoint_at_delta': 9304,\n",
       " 'midpoint_time': 13360,\n",
       " 'onset_latency': 1230,\n",
       " 'period_id': 0,\n",
       " 'rem': 7330,\n",
       " 'restless': 38,\n",
       " 'rmssd': 37,\n",
       " 'rmssd_5min': [63,\n",
       "  69,\n",
       "  94,\n",
       "  66,\n",
       "  62,\n",
       "  56,\n",
       "  62,\n",
       "  91,\n",
       "  77,\n",
       "  55,\n",
       "  50,\n",
       "  48,\n",
       "  43,\n",
       "  42,\n",
       "  47,\n",
       "  51,\n",
       "  58,\n",
       "  46,\n",
       "  46,\n",
       "  73,\n",
       "  76,\n",
       "  45,\n",
       "  82,\n",
       "  55,\n",
       "  90,\n",
       "  84,\n",
       "  65,\n",
       "  30,\n",
       "  72,\n",
       "  58,\n",
       "  53,\n",
       "  45,\n",
       "  79,\n",
       "  86,\n",
       "  85,\n",
       "  66,\n",
       "  63,\n",
       "  61,\n",
       "  61,\n",
       "  63,\n",
       "  59,\n",
       "  65,\n",
       "  90,\n",
       "  57,\n",
       "  79,\n",
       "  54,\n",
       "  70,\n",
       "  54,\n",
       "  52,\n",
       "  44,\n",
       "  44,\n",
       "  30,\n",
       "  41,\n",
       "  45,\n",
       "  40,\n",
       "  56,\n",
       "  63,\n",
       "  63,\n",
       "  52,\n",
       "  51,\n",
       "  80,\n",
       "  90,\n",
       "  79,\n",
       "  73,\n",
       "  76,\n",
       "  75,\n",
       "  58,\n",
       "  37,\n",
       "  37,\n",
       "  54,\n",
       "  53,\n",
       "  46,\n",
       "  45,\n",
       "  39,\n",
       "  40,\n",
       "  50,\n",
       "  48,\n",
       "  45,\n",
       "  61,\n",
       "  59,\n",
       "  48,\n",
       "  43,\n",
       "  67,\n",
       "  56,\n",
       "  61,\n",
       "  58,\n",
       "  0,\n",
       "  0],\n",
       " 'score': 68,\n",
       " 'score_alignment': 100,\n",
       " 'score_deep': 95,\n",
       " 'score_disturbances': 27,\n",
       " 'score_efficiency': 63,\n",
       " 'score_latency': 61,\n",
       " 'score_rem': 67,\n",
       " 'score_total': 66,\n",
       " 'summary_date': '2020-01-15',\n",
       " 'temperature_delta': -0.21,\n",
       " 'temperature_deviation': -0.21,\n",
       " 'temperature_trend_deviation': 0.02,\n",
       " 'timezone': -480,\n",
       " 'total': 22110}"
      ]
     },
     "execution_count": 11,
     "metadata": {},
     "output_type": "execute_result"
    }
   ],
   "source": [
    "# 2. let's find the index of the day of interest; for each day, let's print bedtime_end , so we will know \n",
    "# which element to use (the night is between 15 and 16 of Jan 2020)\n",
    "\n",
    "# -- write your code --\n",
    "json_data['sleep'][2]"
   ]
  },
  {
   "cell_type": "code",
   "execution_count": 13,
   "metadata": {},
   "outputs": [
    {
     "name": "stdout",
     "output_type": "stream",
     "text": [
      "Night starts at: 2020-01-15T22:54:04-08:00\n",
      "Night end at: 2020-01-16T06:09:04-08:00\n"
     ]
    }
   ],
   "source": [
    "# 3. let's find the time the participant went to bed, and when s/he woke up \n",
    "night_index = 2# put here the day you have chosen\n",
    "print('Night starts at: '+json_data['sleep'][night_index]['bedtime_start'])\n",
    "print('Night end at: '+json_data['sleep'][night_index]['bedtime_end'])"
   ]
  },
  {
   "cell_type": "code",
   "execution_count": null,
   "metadata": {},
   "outputs": [],
   "source": [
    "# 4. total time in bed: put the total time spent in bed by the participant (calculate it manually)\n",
    "\n",
    "# -- write your code --"
   ]
  },
  {
   "cell_type": "code",
   "execution_count": 14,
   "metadata": {},
   "outputs": [],
   "source": [
    "# 5. let's extract the hypnogram !\n",
    "# the code is written for you, but verify step by step what is happening (add comments)!\n",
    "\n",
    "#'1' = deep (N3) sleep - '2' = light (N1 or N2) sleep - '3' = REM sleep - '4' = awake\n",
    "dic_sleep = {'wake':4 , 'deep':1, 'light':2 , 'rem':3}\n",
    "\n",
    "hypno_js = json_data['sleep'][night_index]['hypnogram_5min']\n",
    "\n",
    "hypno = np.array(list(hypno_js)) \n",
    "\n",
    "# we have 1 value every 5 minutes; we need 1 value every 30 seconds (to compare it with gold standard)\n",
    "# let's have each element repeated 10 times (2 per minute)\n",
    "hypno = np.repeat(hypno,10)\n",
    "hypno = hypno.astype(int)"
   ]
  },
  {
   "cell_type": "code",
   "execution_count": 15,
   "metadata": {},
   "outputs": [
    {
     "data": {
      "text/plain": [
       "870"
      ]
     },
     "execution_count": 15,
     "metadata": {},
     "output_type": "execute_result"
    }
   ],
   "source": [
    "# 6. let's verify hypnogram is the right length \n",
    "len(hypno)"
   ]
  },
  {
   "cell_type": "code",
   "execution_count": 18,
   "metadata": {},
   "outputs": [],
   "source": [
    "# 7. let's write down the hypnogram to export,\n",
    "# we need to write the phase of sleep (from 1 to 4) from 11:00pm to 6:00am , with sleep phase for each 30 seconds\n",
    "total_number_30sec_int = 7*60*2\n",
    "\n",
    "df = pd.DataFrame(columns = ['IndexTime','SleepPhase'])\n",
    "df['IndexTime'] = range(total_number_30sec_int)\n",
    "\n",
    "# let's cut the first and last minutes of hypno (outside the range of interest)\n",
    "minutes_before_11pm = 6# -- calculate it manually\n",
    "minutes_after_6am = 9# -- calculate it manually\n",
    "\n",
    "# I consider only hypno in the range of interest\n",
    "df['SleepPhase'] = hypno[minutes_before_11pm*2:-minutes_after_6am*2]\n"
   ]
  },
  {
   "cell_type": "code",
   "execution_count": 19,
   "metadata": {},
   "outputs": [],
   "source": [
    "# 8. let's save the final csv file\n",
    "df.to_csv('sensor_1_output.csv', index=False)"
   ]
  },
  {
   "cell_type": "code",
   "execution_count": 34,
   "metadata": {},
   "outputs": [
    {
     "name": "stdout",
     "output_type": "stream",
     "text": [
      "Length hours = 7.0\n",
      "Min deep = 85.0\n",
      "Min light = 170.0\n",
      "Min REM = 116.0\n",
      "Min awake = 49.0\n"
     ]
    }
   ],
   "source": [
    "# 9. let's calculate amount of sleep per phase\n",
    "# in number of intervals\n",
    "# in percentage over the 7 hours of analysis\n",
    "\n",
    "# -- write your code --\n",
    "print('Length hours = '+str(len(df['SleepPhase'])/120))\n",
    "\n",
    "print('Min deep = '+str(np.sum(df['SleepPhase']==1)/2))\n",
    "print('Min light = '+str(np.sum(df['SleepPhase']==2)/2))\n",
    "print('Min REM = '+str(np.sum(df['SleepPhase']==3)/2))\n",
    "print('Min awake = '+str(np.sum(df['SleepPhase']==4)/2))"
   ]
  },
  {
   "cell_type": "code",
   "execution_count": 38,
   "metadata": {},
   "outputs": [
    {
     "data": {
      "image/png": "[encoded data removed]",
      "text/plain": [
       "<Figure size 432x288 with 1 Axes>"
      ]
     },
     "metadata": {
      "needs_background": "light"
     },
     "output_type": "display_data"
    }
   ],
   "source": [
    "# 10. let's print the hypnogram! \n",
    "\n",
    "def plot_hypno(signal): #,color\n",
    "  x = np.arange(len(signal))\n",
    "  y = signal\n",
    "  \n",
    "  fontsizeV = 12\n",
    "  mpl.plot(x,y) #color=color\n",
    "  mpl.xlabel('Time (30sec intervals)',fontsize=fontsizeV)\n",
    "  mpl.ylabel('Sleep phase',fontsize=fontsizeV)\n",
    "  mpl.yticks([1,2,3,4])\n",
    "  mpl.title('1=deep(N3), 2=light(N1=N2), 3=REM, 4=awake')\n",
    "  mpl.grid(True)\n",
    "  mpl.tight_layout()\n",
    "  \n",
    "# -- write your code --\n",
    "\n",
    "plot_hypno(df['SleepPhase'])"
   ]
  },
  {
   "cell_type": "code",
   "execution_count": null,
   "metadata": {},
   "outputs": [],
   "source": []
  }
 ],
 "metadata": {
  "kernelspec": {
   "display_name": "Python 3",
   "language": "python",
   "name": "python3"
  },
  "language_info": {
   "codemirror_mode": {
    "name": "ipython",
    "version": 3
   },
   "file_extension": ".py",
   "mimetype": "text/x-python",
   "name": "python",
   "nbconvert_exporter": "python",
   "pygments_lexer": "ipython3",
   "version": "3.8.5"
  }
 },
 "nbformat": 4,
 "nbformat_minor": 2
}
