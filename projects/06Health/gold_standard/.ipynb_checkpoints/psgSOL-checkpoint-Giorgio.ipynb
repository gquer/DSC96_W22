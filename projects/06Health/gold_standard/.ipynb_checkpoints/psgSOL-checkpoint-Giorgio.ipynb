{
 "cells": [
  {
   "cell_type": "code",
   "execution_count": 15,
   "metadata": {
    "collapsed": true
   },
   "outputs": [],
   "source": [
    "import numpy as np\n",
    "import pandas as pd\n",
    "import matplotlib.pyplot as mpl"
   ]
  },
  {
   "cell_type": "code",
   "execution_count": 2,
   "metadata": {},
   "outputs": [
    {
     "data": {
      "text/plain": [
       "list"
      ]
     },
     "execution_count": 2,
     "metadata": {},
     "output_type": "execute_result"
    }
   ],
   "source": [
    "# let's look at the GOLD STANDARD, the polysomnography!\n",
    "# you can find it in report_simplified.html\n",
    "\n",
    "#let's access this report; we will import all as pandas dataframes (this may take up to 1 minute)\n",
    "dfs = pd.read_html('report_simplified.html',header=0)\n",
    "\n",
    "# NOTE: dfs is a list of pandas dataframes\n",
    "type(dfs)"
   ]
  },
  {
   "cell_type": "code",
   "execution_count": 3,
   "metadata": {
    "collapsed": true
   },
   "outputs": [],
   "source": [
    "# how many dataframes were collected?\n",
    "n_dfs = len(dfs)# your code..."
   ]
  },
  {
   "cell_type": "code",
   "execution_count": 4,
   "metadata": {
    "collapsed": true
   },
   "outputs": [],
   "source": [
    "# get a quick look at dataframes 0-3: do we need them?"
   ]
  },
  {
   "cell_type": "code",
   "execution_count": 5,
   "metadata": {
    "collapsed": true
   },
   "outputs": [],
   "source": [
    "# our data is contained in the remaining dataframes; they ar eall of the same type, let's create one dataframe \n",
    "# with all the data we need!\n",
    "\n",
    "# here I create a df with dfs[4] and dfs[5]\n",
    "df_new = pd.concat([dfs[4], dfs[5]], ignore_index=True)\n",
    "\n",
    "# let's create one datadrame with all the data we need! \n",
    "# Epoch Number: from 1 to 919\n",
    "\n",
    "# your code here\n",
    "df_new = dfs[4]\n",
    "for ind in range(5,len(dfs)):\n",
    "  df_new = pd.concat([df_new, dfs[ind]], ignore_index=True)\n",
    "\n"
   ]
  },
  {
   "cell_type": "code",
   "execution_count": 6,
   "metadata": {},
   "outputs": [
    {
     "name": "stdout",
     "output_type": "stream",
     "text": [
      "{'R', 'N3', 'W', 'N2', 'N1', 'L'}\n"
     ]
    },
    {
     "name": "stderr",
     "output_type": "stream",
     "text": [
      "/Users/Giorgio/anaconda/envs/py37/lib/python3.7/site-packages/ipykernel/__main__.py:16: SettingWithCopyWarning: \n",
      "A value is trying to be set on a copy of a slice from a DataFrame\n",
      "\n",
      "See the caveats in the documentation: http://pandas.pydata.org/pandas-docs/stable/user_guide/indexing.html#returning-a-view-versus-a-copy\n"
     ]
    }
   ],
   "source": [
    "# Create a new column in the dataframe with the same notation for the hypnogram\n",
    "# we defined: #'1' = deep (N3) sleep - '2' = light (N1 or N2) sleep - '3' = REM sleep - '4' = awake\n",
    "\n",
    "# create a new column and initialize it to value 0\n",
    "df_new['hypno'] = 0\n",
    "\n",
    "# what are the different values of sleep here? \n",
    "print(set(np.array(df_new['Stg'])))\n",
    "# ask if you do not know how to interpret one value!\n",
    "\n",
    "# define a dictionary as we did yesterday\"\n",
    "# your code here...\n",
    "dic_sleep = {'W':4 , 'N3':1, 'N1':2 , 'N2':2,  'R':3, 'L':4} # your code here...\n",
    "\n",
    "# write the corresponding value in df_new['hypno']\n",
    "for j in range(len(df_new['hypno'])): df_new['hypno'][j] = dic_sleep[df_new['Stg'][j]]"
   ]
  },
  {
   "cell_type": "code",
   "execution_count": 7,
   "metadata": {},
   "outputs": [
    {
     "name": "stdout",
     "output_type": "stream",
     "text": [
      "Initial length hypno = 919\n",
      "Length excluding light on = 903\n"
     ]
    }
   ],
   "source": [
    "# PROBLEM: we have 919 30-sec intervals, we need 840 (from 11pm to 6am)\n",
    "\n",
    "# from the report, they turned off the lights (and turned on again) at:\n",
    "# Lights Out: 1/15/2020 22:41:22 \n",
    "# Lights On: 1/16/2020 06:12:50\n",
    "\n",
    "# first, we need to remove intervals when the lights were still on:\n",
    "print('Initial length hypno = '+str(len(df_new['hypno'])))\n",
    "\n",
    "# first, we have data with lights on... we need to remove them (15 at the beginning, 1 at the end)\n",
    "hypno = np.array(df_new['hypno'])[15:-1]\n",
    "\n",
    "print('Length excluding light on = '+str(len(hypno)))\n"
   ]
  },
  {
   "cell_type": "code",
   "execution_count": 8,
   "metadata": {
    "collapsed": true
   },
   "outputs": [],
   "source": [
    "# 7. let's write down the hypnogram to export,\n",
    "# we need to write the phase of sleep (from 1 to 4) from 11:00pm to 6:00am , with sleep phase for each 30 seconds\n",
    "total_number_30sec_int = 7*60*2\n",
    "\n",
    "df = pd.DataFrame(columns = ['IndexTime','SleepPhase'])\n",
    "df['IndexTime'] = range(total_number_30sec_int)\n",
    "\n",
    "# let's cut the first and last 30-sec-intervals of hypno (outside the range of interest)\n",
    "intervals_before_11pm = 18*2+1 # -- calculate it manually (how many 30 sec intervals should we cut?)\n",
    "intervals_after_6am = 13*2# -- calculate it manually (how many 30 sec intervals should we cut?)\n",
    "\n",
    "# let's cut the first and last values of hypno (outside the range of interest)\n",
    "df['SleepPhase'] = hypno[intervals_before_11pm:-(intervals_after_6am)]"
   ]
  },
  {
   "cell_type": "code",
   "execution_count": 9,
   "metadata": {
    "collapsed": true
   },
   "outputs": [],
   "source": [
    "# 8. let's save the final csv file\n",
    "df.to_csv('sensor_GS_output.csv', index=False)"
   ]
  },
  {
   "cell_type": "code",
   "execution_count": null,
   "metadata": {
    "collapsed": true
   },
   "outputs": [],
   "source": []
  },
  {
   "cell_type": "code",
   "execution_count": null,
   "metadata": {
    "collapsed": true
   },
   "outputs": [],
   "source": []
  },
  {
   "cell_type": "code",
   "execution_count": 2,
   "metadata": {
    "collapsed": true
   },
   "outputs": [],
   "source": [
    "# import all hypnograms (11-6)\n",
    "\n",
    "hypno_sensor1 = np.array(pd.read_csv('../sensor1/sensor_1_output.csv')['SleepPhase'])\n",
    "hypno_sensor2 = np.array(pd.read_csv('../sensor2/sensor_2_output.csv')['SleepPhase'])\n",
    "hypno_GS = np.array(pd.read_csv('sensor_GS_output.csv')['SleepPhase'])\n",
    "hypno_RAND = np.array(pd.read_csv('../sensor1/sensor_RAND_output.csv')['SleepPhase'])\n",
    "hypno_RAND2 = np.array(pd.read_csv('../sensor2/sensor_RAND2_output.csv')['SleepPhase'])"
   ]
  },
  {
   "cell_type": "code",
   "execution_count": 3,
   "metadata": {
    "collapsed": true
   },
   "outputs": [],
   "source": [
    "# let's calculate the norm 0 distance between these hypnograms (fraction of intervals that are the same)\n",
    "# if you want to learn more about norms: https://en.wikipedia.org/wiki/Norm_(mathematics)\n",
    "\n",
    "# example:\n",
    "distance_1_2 = np.linalg.norm(hypno_sensor1 - hypno_sensor2,0)/len(hypno_sensor1)\n",
    "\n",
    "\n",
    "# are the two sensors different?\n",
    "\n",
    "# which one is more accurate? is it significantly more accurate?\n",
    "\n",
    "# what is the distance to a random signal? do we expect it to be this value?"
   ]
  },
  {
   "cell_type": "code",
   "execution_count": 4,
   "metadata": {
    "collapsed": true
   },
   "outputs": [],
   "source": [
    "# let's also print the signals \n",
    "# print the three signals, \n",
    "# and try to print two signals in the same figure so we can check the differences!\n",
    "\n",
    "def plot_hypno(signal): #,color\n",
    "  x = np.arange(len(signal))\n",
    "  y = signal\n",
    "  \n",
    "  fontsizeV = 12\n",
    "  mpl.plot(x,y) #color=color\n",
    "  mpl.xlabel('Time (30sec intervals)',fontsize=fontsizeV)\n",
    "  mpl.ylabel('Sleep phase',fontsize=fontsizeV)\n",
    "  mpl.yticks([1,2,3,4])\n",
    "  mpl.title('1=deep(N3), 2=light(N1=N2), 3=REM, 4=awake')\n",
    "  mpl.grid(True)\n",
    "  mpl.tight_layout()"
   ]
  },
  {
   "cell_type": "code",
   "execution_count": 5,
   "metadata": {
    "collapsed": true
   },
   "outputs": [],
   "source": [
    "plot_hypno(hypno_sensor1)\n",
    "#plot_hypno(hypno_sensor2)\n",
    "#plot_hypno(hypno_GS)"
   ]
  },
  {
   "cell_type": "code",
   "execution_count": 6,
   "metadata": {
    "collapsed": true
   },
   "outputs": [],
   "source": [
    "plot_hypno(hypno_sensor2)"
   ]
  },
  {
   "cell_type": "code",
   "execution_count": 7,
   "metadata": {
    "collapsed": true
   },
   "outputs": [],
   "source": [
    "plot_hypno(hypno_GS)"
   ]
  },
  {
   "cell_type": "code",
   "execution_count": null,
   "metadata": {
    "collapsed": true
   },
   "outputs": [],
   "source": []
  },
  {
   "cell_type": "code",
   "execution_count": 41,
   "metadata": {
    "collapsed": true
   },
   "outputs": [],
   "source": [
    "from sklearn.metrics import confusion_matrix\n"
   ]
  },
  {
   "cell_type": "code",
   "execution_count": 45,
   "metadata": {},
   "outputs": [],
   "source": []
  },
  {
   "cell_type": "code",
   "execution_count": 92,
   "metadata": {},
   "outputs": [],
   "source": [
    "n_sensor = 2\n",
    "\n",
    "y_true = hypno_GS\n",
    "if n_sensor ==1: \n",
    "  y_pred = hypno_sensor1 \n",
    "else: y_pred = hypno_sensor2\n",
    "multiclass = confusion_matrix(y_true, y_pred)\n",
    "title = ('Normalized confusion matrix for sensor '+str(n_sensor))\n",
    "\n",
    "#normalization\n",
    "multiclass = multiclass.astype(float)\n",
    "for j in range(4): multiclass[j] = multiclass[j]*1.0/np.sum(multiclass[j])\n",
    "\n",
    "classes = ['Deep','Light','REM','awake']\n",
    "\n",
    "cm = multiclass\n",
    "fig, ax = plt.subplots()\n",
    "im = ax.imshow(cm, interpolation='nearest', cmap=mpl.cm.Blues)\n",
    "ax.figure.colorbar(im, ax=ax)\n",
    "# We want to show all ticks...\n",
    "ax.set(xticks=np.arange(cm.shape[1]),\n",
    "       yticks=np.arange(cm.shape[0]),\n",
    "       # ... and label them with the respective list entries\n",
    "       xticklabels=classes, yticklabels=classes,\n",
    "       title=title,\n",
    "       ylabel='True label',\n",
    "       xlabel='Predicted label')\n",
    "\n",
    "# Rotate the tick labels and set their alignment.\n",
    "plt.setp(ax.get_xticklabels(), rotation=45, ha=\"right\",\n",
    "         rotation_mode=\"anchor\")\n",
    "\n",
    "# Loop over data dimensions and create text annotations.\n",
    "fmt = '.1f' \n",
    "thresh = cm.max() / 2.\n",
    "for i in range(cm.shape[0]):\n",
    "    for j in range(cm.shape[1]):\n",
    "        ax.text(j, i, format(cm[i, j], fmt),\n",
    "                ha=\"center\", va=\"center\",\n",
    "                color=\"white\" if cm[i, j] > thresh else \"black\")\n",
    "fig.tight_layout()\n",
    "#mpl.show()\n",
    "#mpl.savefig('conf_matrix/sensor'+str(n_sensor)+'.jpg',dpi = 300)"
   ]
  },
  {
   "cell_type": "code",
   "execution_count": 101,
   "metadata": {},
   "outputs": [
    {
     "data": {
      "text/plain": [
       "126"
      ]
     },
     "execution_count": 101,
     "metadata": {},
     "output_type": "execute_result"
    }
   ],
   "source": [
    "np.sum((hypno_GS == 1) & (hypno_sensor2==2))"
   ]
  },
  {
   "cell_type": "code",
   "execution_count": 108,
   "metadata": {},
   "outputs": [],
   "source": [
    "y_true = hypno_sensor1\n",
    "y_pred = hypno_sensor2\n",
    "multiclass = confusion_matrix(y_true, y_pred)\n",
    "title = ('Normalized confusion matrix for sensor 1 vs 2')\n",
    "\n",
    "#normalization\n",
    "multiclass = multiclass.astype(float)\n",
    "for j in range(4): multiclass[j] = multiclass[j]*1.0/np.sum(multiclass[j])\n",
    "\n",
    "classes = ['Deep','Light','REM','awake']\n",
    "\n",
    "cm = multiclass\n",
    "fig, ax = plt.subplots()\n",
    "im = ax.imshow(cm, interpolation='nearest', cmap=mpl.cm.Blues)\n",
    "ax.figure.colorbar(im, ax=ax)\n",
    "# We want to show all ticks...\n",
    "ax.set(xticks=np.arange(cm.shape[1]),\n",
    "       yticks=np.arange(cm.shape[0]),\n",
    "       # ... and label them with the respective list entries\n",
    "       xticklabels=classes, yticklabels=classes,\n",
    "       title=title,\n",
    "       ylabel='Sensor 1',\n",
    "       xlabel='Sensor 2')\n",
    "\n",
    "# Rotate the tick labels and set their alignment.\n",
    "plt.setp(ax.get_xticklabels(), rotation=45, ha=\"right\",\n",
    "         rotation_mode=\"anchor\")\n",
    "\n",
    "# Loop over data dimensions and create text annotations.\n",
    "fmt = '.1f' \n",
    "thresh = cm.max() / 2.\n",
    "for i in range(cm.shape[0]):\n",
    "    for j in range(cm.shape[1]):\n",
    "        ax.text(j, i, format(cm[i, j], fmt),\n",
    "                ha=\"center\", va=\"center\",\n",
    "                color=\"white\" if cm[i, j] > thresh else \"black\")\n",
    "fig.tight_layout()\n",
    "#mpl.show()\n",
    "mpl.savefig('conf_matrix/sensor_1_and_2.jpg',dpi = 300)"
   ]
  },
  {
   "cell_type": "code",
   "execution_count": 107,
   "metadata": {
    "collapsed": true
   },
   "outputs": [],
   "source": [
    "mpl.close()"
   ]
  },
  {
   "cell_type": "code",
   "execution_count": null,
   "metadata": {
    "collapsed": true
   },
   "outputs": [],
   "source": []
  }
 ],
 "metadata": {
  "kernelspec": {
   "display_name": "Python [default]",
   "language": "python",
   "name": "python2"
  },
  "language_info": {
   "codemirror_mode": {
    "name": "ipython",
    "version": 2
   },
   "file_extension": ".py",
   "mimetype": "text/x-python",
   "name": "python",
   "nbconvert_exporter": "python",
   "pygments_lexer": "ipython2",
   "version": "2.7.6"
  }
 },
 "nbformat": 4,
 "nbformat_minor": 2
}
