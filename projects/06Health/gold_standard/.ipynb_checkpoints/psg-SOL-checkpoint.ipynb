{
 "cells": [
  {
   "cell_type": "code",
   "execution_count": 1,
   "metadata": {},
   "outputs": [],
   "source": [
    "import numpy as np\n",
    "import pandas as pd\n",
    "import matplotlib.pyplot as mpl"
   ]
  },
  {
   "cell_type": "code",
   "execution_count": 2,
   "metadata": {},
   "outputs": [],
   "source": [
    "# let's look at the GOLD STANDARD, the polysomnography!\n",
    "# you can find it in report_simplified.html\n",
    "\n",
    "# 0. open it in your browser (click on it) and see how it looks like, you will need it!"
   ]
  },
  {
   "cell_type": "code",
   "execution_count": 3,
   "metadata": {},
   "outputs": [
    {
     "data": {
      "text/plain": [
       "list"
      ]
     },
     "execution_count": 3,
     "metadata": {},
     "output_type": "execute_result"
    }
   ],
   "source": [
    "#let's access this report; we will import all as pandas dataframes (this may take up to 1 minute)\n",
    "dfs = pd.read_html('report_simplified.html',header=0)\n",
    "\n",
    "# NOTE: dfs is a list of pandas dataframes\n",
    "type(dfs)"
   ]
  },
  {
   "cell_type": "code",
   "execution_count": 6,
   "metadata": {},
   "outputs": [
    {
     "data": {
      "text/plain": [
       "24"
      ]
     },
     "execution_count": 6,
     "metadata": {},
     "output_type": "execute_result"
    }
   ],
   "source": [
    "# 1. how many dataframes were collected?\n",
    "# YOUR CODE HERE ...\n",
    "\n",
    "len(dfs)"
   ]
  },
  {
   "cell_type": "code",
   "execution_count": 15,
   "metadata": {},
   "outputs": [
    {
     "data": {
      "text/html": [
       "<div>\n",
       "<style scoped>\n",
       "    .dataframe tbody tr th:only-of-type {\n",
       "        vertical-align: middle;\n",
       "    }\n",
       "\n",
       "    .dataframe tbody tr th {\n",
       "        vertical-align: top;\n",
       "    }\n",
       "\n",
       "    .dataframe thead th {\n",
       "        text-align: right;\n",
       "    }\n",
       "</style>\n",
       "<table border=\"1\" class=\"dataframe\">\n",
       "  <thead>\n",
       "    <tr style=\"text-align: right;\">\n",
       "      <th></th>\n",
       "      <th># Epoch Number</th>\n",
       "      <th>Stg</th>\n",
       "      <th>MicAr</th>\n",
       "      <th>{#}Any  Apnea</th>\n",
       "      <th>{#}Apnea  Obstructive</th>\n",
       "      <th>{#} Apnea  Mixed</th>\n",
       "      <th>{#}Apnea  Central</th>\n",
       "      <th>{#}Hypopnea Total</th>\n",
       "      <th>SUM(#DESAT_100_REM, {#})  Desaturation</th>\n",
       "      <th>{#}Leg Movement</th>\n",
       "      <th>#</th>\n",
       "    </tr>\n",
       "  </thead>\n",
       "  <tbody>\n",
       "    <tr>\n",
       "      <th>0</th>\n",
       "      <td>912</td>\n",
       "      <td>N2</td>\n",
       "      <td>0</td>\n",
       "      <td>0</td>\n",
       "      <td>0</td>\n",
       "      <td>0</td>\n",
       "      <td>0</td>\n",
       "      <td>0</td>\n",
       "      <td>0</td>\n",
       "      <td>0</td>\n",
       "      <td>912</td>\n",
       "    </tr>\n",
       "    <tr>\n",
       "      <th>1</th>\n",
       "      <td>913</td>\n",
       "      <td>N2</td>\n",
       "      <td>0</td>\n",
       "      <td>0</td>\n",
       "      <td>0</td>\n",
       "      <td>0</td>\n",
       "      <td>0</td>\n",
       "      <td>0</td>\n",
       "      <td>0</td>\n",
       "      <td>0</td>\n",
       "      <td>913</td>\n",
       "    </tr>\n",
       "    <tr>\n",
       "      <th>2</th>\n",
       "      <td>914</td>\n",
       "      <td>N2</td>\n",
       "      <td>0</td>\n",
       "      <td>0</td>\n",
       "      <td>0</td>\n",
       "      <td>0</td>\n",
       "      <td>0</td>\n",
       "      <td>0</td>\n",
       "      <td>0</td>\n",
       "      <td>0</td>\n",
       "      <td>914</td>\n",
       "    </tr>\n",
       "    <tr>\n",
       "      <th>3</th>\n",
       "      <td>915</td>\n",
       "      <td>N2</td>\n",
       "      <td>1</td>\n",
       "      <td>0</td>\n",
       "      <td>0</td>\n",
       "      <td>0</td>\n",
       "      <td>0</td>\n",
       "      <td>0</td>\n",
       "      <td>0</td>\n",
       "      <td>0</td>\n",
       "      <td>915</td>\n",
       "    </tr>\n",
       "    <tr>\n",
       "      <th>4</th>\n",
       "      <td>916</td>\n",
       "      <td>N1</td>\n",
       "      <td>0</td>\n",
       "      <td>0</td>\n",
       "      <td>0</td>\n",
       "      <td>0</td>\n",
       "      <td>0</td>\n",
       "      <td>0</td>\n",
       "      <td>0</td>\n",
       "      <td>0</td>\n",
       "      <td>916</td>\n",
       "    </tr>\n",
       "    <tr>\n",
       "      <th>5</th>\n",
       "      <td>917</td>\n",
       "      <td>N2</td>\n",
       "      <td>1</td>\n",
       "      <td>0</td>\n",
       "      <td>0</td>\n",
       "      <td>0</td>\n",
       "      <td>0</td>\n",
       "      <td>0</td>\n",
       "      <td>0</td>\n",
       "      <td>0</td>\n",
       "      <td>917</td>\n",
       "    </tr>\n",
       "    <tr>\n",
       "      <th>6</th>\n",
       "      <td>918</td>\n",
       "      <td>N2</td>\n",
       "      <td>1</td>\n",
       "      <td>0</td>\n",
       "      <td>0</td>\n",
       "      <td>0</td>\n",
       "      <td>0</td>\n",
       "      <td>0</td>\n",
       "      <td>0</td>\n",
       "      <td>0</td>\n",
       "      <td>918</td>\n",
       "    </tr>\n",
       "    <tr>\n",
       "      <th>7</th>\n",
       "      <td>919</td>\n",
       "      <td>L</td>\n",
       "      <td>0</td>\n",
       "      <td>0</td>\n",
       "      <td>0</td>\n",
       "      <td>0</td>\n",
       "      <td>0</td>\n",
       "      <td>0</td>\n",
       "      <td>0</td>\n",
       "      <td>0</td>\n",
       "      <td>919</td>\n",
       "    </tr>\n",
       "  </tbody>\n",
       "</table>\n",
       "</div>"
      ],
      "text/plain": [
       "   # Epoch Number Stg  MicAr  {#}Any  Apnea  {#}Apnea  Obstructive  \\\n",
       "0             912  N2      0              0                      0   \n",
       "1             913  N2      0              0                      0   \n",
       "2             914  N2      0              0                      0   \n",
       "3             915  N2      1              0                      0   \n",
       "4             916  N1      0              0                      0   \n",
       "5             917  N2      1              0                      0   \n",
       "6             918  N2      1              0                      0   \n",
       "7             919   L      0              0                      0   \n",
       "\n",
       "   {#} Apnea  Mixed  {#}Apnea  Central  {#}Hypopnea Total  \\\n",
       "0                 0                  0                  0   \n",
       "1                 0                  0                  0   \n",
       "2                 0                  0                  0   \n",
       "3                 0                  0                  0   \n",
       "4                 0                  0                  0   \n",
       "5                 0                  0                  0   \n",
       "6                 0                  0                  0   \n",
       "7                 0                  0                  0   \n",
       "\n",
       "   SUM(#DESAT_100_REM, {#})  Desaturation  {#}Leg Movement    #  \n",
       "0                                       0                0  912  \n",
       "1                                       0                0  913  \n",
       "2                                       0                0  914  \n",
       "3                                       0                0  915  \n",
       "4                                       0                0  916  \n",
       "5                                       0                0  917  \n",
       "6                                       0                0  918  \n",
       "7                                       0                0  919  "
      ]
     },
     "execution_count": 15,
     "metadata": {},
     "output_type": "execute_result"
    }
   ],
   "source": [
    "# 2. get a quick look at dataframes 0-3: do we need them? \n",
    "\n",
    "# YOUR CODE HERE ...\n",
    "dfs[23]"
   ]
  },
  {
   "cell_type": "code",
   "execution_count": 36,
   "metadata": {},
   "outputs": [],
   "source": [
    "# 3. we have identified the dataframes we need; they are all of the same type, let's create one dataframe \n",
    "# with all the data we need!\n",
    "\n",
    "# here I create a df with dfs[4] and dfs[5]\n",
    "\n",
    "df_new = dfs[4]\n",
    "          \n",
    "for j in np.arange(5,24): \n",
    "\n",
    "    df_new = pd.concat([df_new, dfs[j]], ignore_index=True)\n",
    "\n",
    "# let's create one datadrame with all the data we need! \n",
    "# Epoch Number: from 1 to 919\n",
    "\n",
    "# YOUR CODE HERE ...\n",
    "\n",
    "\n"
   ]
  },
  {
   "cell_type": "code",
   "execution_count": 40,
   "metadata": {},
   "outputs": [
    {
     "name": "stdout",
     "output_type": "stream",
     "text": [
      "{'N3', 'R', 'N1', 'L', 'N2', 'W'}\n"
     ]
    },
    {
     "name": "stderr",
     "output_type": "stream",
     "text": [
      "<ipython-input-40-32ea34b77952>:17: SettingWithCopyWarning: \n",
      "A value is trying to be set on a copy of a slice from a DataFrame\n",
      "\n",
      "See the caveats in the documentation: https://pandas.pydata.org/pandas-docs/stable/user_guide/indexing.html#returning-a-view-versus-a-copy\n",
      "  for j in range(len(df_new['hypno'])): df_new['hypno'][j] = dic_sleep[df_new['Stg'][j]]\n"
     ]
    }
   ],
   "source": [
    "# 4. Create a new column in the dataframe with the same notation for the hypnogram\n",
    "# we defined: #'1' = deep (N3) sleep - '2' = light (N1 or N2) sleep - '3' = REM sleep - '4' = awake\n",
    "\n",
    "# create a new column and initialize it to value 0\n",
    "df_new['hypno'] = 0\n",
    "\n",
    "# what are the different values of sleep here?\n",
    "print(set(np.array(df_new['Stg'])))\n",
    "# ask if you do not know how to interpret one value!\n",
    "\n",
    "# define a dictionary as we did last week\n",
    "\n",
    "#dic_sleep = # YOUR CODE HERE ...\n",
    "dic_sleep = {'W':4 , 'N3':1, 'N1':2 , 'N2':2,  'R':3, 'L':4}\n",
    "\n",
    "# write the corresponding value in df_new['hypno']\n",
    "for j in range(len(df_new['hypno'])): df_new['hypno'][j] = dic_sleep[df_new['Stg'][j]]"
   ]
  },
  {
   "cell_type": "code",
   "execution_count": 41,
   "metadata": {},
   "outputs": [
    {
     "name": "stdout",
     "output_type": "stream",
     "text": [
      "Initial length hypno = 919\n",
      "Length excluding light on = 903\n"
     ]
    }
   ],
   "source": [
    "# 5. PROBLEM: we have 919 30-sec intervals, we need 840 (from 11pm to 6am)\n",
    "\n",
    "# from the report, they turned off the lights (and turned on again) at:\n",
    "# Lights Out: 1/15/2020 22:41:22 \n",
    "# Lights On: 1/16/2020 06:12:50\n",
    "\n",
    "# first, we need to remove intervals when the lights were still on:\n",
    "print('Initial length hypno = '+str(len(df_new['hypno'])))\n",
    "\n",
    "# first, we have data with lights on... we need to remove them (15 at the beginning, 1 at the end)\n",
    "hypno = np.array(df_new['hypno'])[15:-1]\n",
    "\n",
    "print('Length excluding light on = '+str(len(hypno)))\n"
   ]
  },
  {
   "cell_type": "code",
   "execution_count": 43,
   "metadata": {},
   "outputs": [],
   "source": [
    "# 6. let's write down the hypnogram to export,\n",
    "# we need to write the phase of sleep (from 1 to 4) from 11:00pm to 6:00am , with sleep phase for each 30 seconds\n",
    "total_number_30sec_int = 7*60*2\n",
    "\n",
    "df = pd.DataFrame(columns = ['IndexTime','SleepPhase'])\n",
    "df['IndexTime'] = range(total_number_30sec_int)\n",
    "\n",
    "# let's cut the first and last 30-sec-intervals of hypno (outside the range of interest)\n",
    "# from the report, they turned off the lights (and turned on again) at:\n",
    "# Lights Out: 1/15/2020 22:41:22 \n",
    "# Lights On: 1/16/2020 06:12:50\n",
    "intervals_before_11pm = 18*2+1 # -- calculate it manually (how many 30 sec intervals should we cut?)\n",
    "intervals_after_6am = 13*2# -- calculate it manually (how many 30 sec intervals should we cut?)\n",
    "\n",
    "# let's cut the first and last values of hypno (outside the range of interest)\n",
    "df['SleepPhase'] = hypno[intervals_before_11pm:-(intervals_after_6am)]"
   ]
  },
  {
   "cell_type": "code",
   "execution_count": 44,
   "metadata": {},
   "outputs": [],
   "source": [
    "# 7. let's save the final csv file as sensor_GS_output.csv\n",
    "\n",
    "# YOUR CODE HERE ...\n",
    "df.to_csv('sensor_GS_output.csv', index=False)"
   ]
  },
  {
   "cell_type": "code",
   "execution_count": 45,
   "metadata": {},
   "outputs": [
    {
     "data": {
      "text/plain": [
       "840"
      ]
     },
     "execution_count": 45,
     "metadata": {},
     "output_type": "execute_result"
    }
   ],
   "source": [
    "len(df['SleepPhase'])"
   ]
  },
  {
   "cell_type": "code",
   "execution_count": null,
   "metadata": {},
   "outputs": [],
   "source": []
  }
 ],
 "metadata": {
  "kernelspec": {
   "display_name": "Python 3",
   "language": "python",
   "name": "python3"
  },
  "language_info": {
   "codemirror_mode": {
    "name": "ipython",
    "version": 3
   },
   "file_extension": ".py",
   "mimetype": "text/x-python",
   "name": "python",
   "nbconvert_exporter": "python",
   "pygments_lexer": "ipython3",
   "version": "3.8.5"
  }
 },
 "nbformat": 4,
 "nbformat_minor": 2
}
