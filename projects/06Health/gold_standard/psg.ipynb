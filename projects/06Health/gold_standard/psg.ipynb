{
 "cells": [
  {
   "cell_type": "code",
   "execution_count": null,
   "metadata": {
    "collapsed": true
   },
   "outputs": [],
   "source": [
    "import numpy as np\n",
    "import pandas as pd\n",
    "import matplotlib.pyplot as mpl"
   ]
  },
  {
   "cell_type": "code",
   "execution_count": null,
   "metadata": {
    "collapsed": true
   },
   "outputs": [],
   "source": [
    "# let's look at the GOLD STANDARD, the polysomnography!\n",
    "# you can find it in report_simplified.html\n",
    "\n",
    "# 0. open it in your browser (click on it) and see how it looks like, you will need it!"
   ]
  },
  {
   "cell_type": "code",
   "execution_count": null,
   "metadata": {
    "collapsed": true
   },
   "outputs": [],
   "source": [
    "#let's access this report; we will import all as pandas dataframes (this may take up to 1 minute)\n",
    "dfs = pd.read_html('report_simplified.html',header=0)\n",
    "\n",
    "# NOTE: dfs is a list of pandas dataframes\n",
    "type(dfs)"
   ]
  },
  {
   "cell_type": "code",
   "execution_count": null,
   "metadata": {
    "collapsed": true
   },
   "outputs": [],
   "source": [
    "# 1. how many dataframes were collected?\n",
    "n_dfs = # YOUR CODE HERE ..."
   ]
  },
  {
   "cell_type": "code",
   "execution_count": null,
   "metadata": {
    "collapsed": true
   },
   "outputs": [],
   "source": [
    "# 2. get a quick look at dataframes 0-3: do we need them? \n",
    "\n",
    "# YOUR CODE HERE ..."
   ]
  },
  {
   "cell_type": "code",
   "execution_count": null,
   "metadata": {
    "collapsed": true
   },
   "outputs": [],
   "source": [
    "# 3. we have identified the dataframes we need; they are all of the same type, let's create one dataframe \n",
    "# with all the data we need!\n",
    "\n",
    "# here I create a df with dfs[4] and dfs[5]\n",
    "df_new = pd.concat([dfs[4], dfs[5]], ignore_index=True)\n",
    "\n",
    "# let's create one datadrame with all the data we need! \n",
    "# Epoch Number: from 1 to 919\n",
    "\n",
    "# YOUR CODE HERE ...\n",
    "\n",
    "\n"
   ]
  },
  {
   "cell_type": "code",
   "execution_count": null,
   "metadata": {
    "collapsed": true
   },
   "outputs": [],
   "source": [
    "# 4. Create a new column in the dataframe with the same notation for the hypnogram\n",
    "# we defined: #'1' = deep (N3) sleep - '2' = light (N1 or N2) sleep - '3' = REM sleep - '4' = awake\n",
    "\n",
    "# create a new column and initialize it to value 0\n",
    "df_new['hypno'] = 0\n",
    "\n",
    "# what are the different values of sleep here?\n",
    "print(set(np.array(df_new['Stg'])))\n",
    "# ask if you do not know how to interpret one value!\n",
    "\n",
    "# define a dictionary as we did last week\n",
    "\n",
    "dic_sleep = # YOUR CODE HERE ...\n",
    "\n",
    "# write the corresponding value in df_new['hypno']\n",
    "for j in range(len(df_new['hypno'])): df_new['hypno'][j] = dic_sleep[df_new['Stg'][j]]"
   ]
  },
  {
   "cell_type": "code",
   "execution_count": null,
   "metadata": {
    "collapsed": true
   },
   "outputs": [],
   "source": [
    "# 5. PROBLEM: we have 919 30-sec intervals, we need 840 (from 11pm to 6am)\n",
    "\n",
    "# from the report, they turned off the lights (and turned on again) at:\n",
    "# Lights Out: 1/15/2020 22:41:22 \n",
    "# Lights On: 1/16/2020 06:12:50\n",
    "\n",
    "# first, we need to remove intervals when the lights were still on:\n",
    "print('Initial length hypno = '+str(len(df_new['hypno'])))\n",
    "\n",
    "# first, we have data with lights on... we need to remove them (15 at the beginning, 1 at the end)\n",
    "hypno = np.array(df_new['hypno'])[15:-1]\n",
    "\n",
    "print('Length excluding light on = '+str(len(hypno)))\n"
   ]
  },
  {
   "cell_type": "code",
   "execution_count": null,
   "metadata": {
    "collapsed": true
   },
   "outputs": [],
   "source": [
    "# 6. let's write down the hypnogram to export,\n",
    "# we need to write the phase of sleep (from 1 to 4) from 11:00pm to 6:00am , with sleep phase for each 30 seconds\n",
    "total_number_30sec_int = 7*60*2\n",
    "\n",
    "df = pd.DataFrame(columns = ['IndexTime','SleepPhase'])\n",
    "df['IndexTime'] = range(total_number_30sec_int)\n",
    "\n",
    "# let's cut the first and last 30-sec-intervals of hypno (outside the range of interest)\n",
    "# from the report, they turned off the lights (and turned on again) at:\n",
    "# Lights Out: 1/15/2020 22:41:22 \n",
    "# Lights On: 1/16/2020 06:12:50\n",
    "intervals_before_11pm = # -- calculate it manually (how many 30 sec intervals should we cut?)\n",
    "intervals_after_6am = # -- calculate it manually (how many 30 sec intervals should we cut?)\n",
    "\n",
    "# let's cut the first and last values of hypno (outside the range of interest)\n",
    "df['SleepPhase'] = hypno[intervals_before_11pm:-(intervals_after_6am)]"
   ]
  },
  {
   "cell_type": "code",
   "execution_count": null,
   "metadata": {
    "collapsed": true
   },
   "outputs": [],
   "source": [
    "# 7. let's save the final csv file as sensor_GS_output.csv\n",
    "\n",
    "df.to_csv('sensor_GS_output.csv', index=False)"
   ]
  },
  {
   "cell_type": "code",
   "execution_count": null,
   "metadata": {},
   "outputs": [],
   "source": [
    "# 8. let's calculate amount of sleep per phase\n",
    "# in number of intervals\n",
    "# in percentage over the 7 hours of analysis\n",
    "\n",
    "# -- write your code --"
   ]
  },
  {
   "cell_type": "code",
   "execution_count": null,
   "metadata": {},
   "outputs": [],
   "source": [
    "# 9. let's print the hypnogram! \n",
    "\n",
    "def plot_hypno(signal): #,color\n",
    "  x = np.arange(len(signal))\n",
    "  y = signal\n",
    "  \n",
    "  fontsizeV = 12\n",
    "  mpl.plot(x,y) #color=color\n",
    "  mpl.xlabel('Time (30sec intervals)',fontsize=fontsizeV)\n",
    "  mpl.ylabel('Sleep phase',fontsize=fontsizeV)\n",
    "  mpl.yticks([1,2,3,4])\n",
    "  mpl.title('1=deep(N3), 2=light(N1=N2), 3=REM, 4=awake')\n",
    "  mpl.grid(True)\n",
    "  mpl.tight_layout()\n",
    "  \n",
    "# -- write your code --"
   ]
  },
  {
   "cell_type": "code",
   "execution_count": null,
   "metadata": {},
   "outputs": [],
   "source": []
  },
  {
   "cell_type": "code",
   "execution_count": null,
   "metadata": {},
   "outputs": [],
   "source": []
  },
  {
   "cell_type": "code",
   "execution_count": null,
   "metadata": {
    "collapsed": true
   },
   "outputs": [],
   "source": []
  }
 ],
 "metadata": {
  "kernelspec": {
   "display_name": "Python 3",
   "language": "python",
   "name": "python3"
  },
  "language_info": {
   "codemirror_mode": {
    "name": "ipython",
    "version": 3
   },
   "file_extension": ".py",
   "mimetype": "text/x-python",
   "name": "python",
   "nbconvert_exporter": "python",
   "pygments_lexer": "ipython3",
   "version": "3.8.5"
  }
 },
 "nbformat": 4,
 "nbformat_minor": 2
}
