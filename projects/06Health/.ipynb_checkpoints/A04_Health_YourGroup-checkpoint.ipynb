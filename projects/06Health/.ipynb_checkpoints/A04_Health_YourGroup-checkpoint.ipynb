{
 "cells": [
  {
   "cell_type": "markdown",
   "metadata": {},
   "source": [
    "# Assignment 04\n",
    "\n",
    "Submission by: see Canvas. "
   ]
  },
  {
   "cell_type": "code",
   "execution_count": 2,
   "metadata": {},
   "outputs": [],
   "source": [
    "# import packages\n",
    "import numpy as np\n",
    "import pandas as pd\n",
    "import re\n",
    "import matplotlib.pyplot as mpl"
   ]
  },
  {
   "cell_type": "markdown",
   "metadata": {},
   "source": [
    "## Assignment 04: how to (all parts to be submitted as one .ipynb per group)\n",
    "\n",
    "#### Your Group: add all names of your group ()\n",
    "\n",
    "#### Your sensor (1 or 2 or goldstandard)\n",
    "\n",
    "1) put all the code you developed to extract data from json\n",
    "\n",
    "2) follow point by point that .ipynb\n",
    "\n",
    "3) prepare a pdf (send DM to Instructor) with your results (e.g., group B2 send 1 pdf for this phase)\n",
    "\n",
    "\n",
    "************\n",
    "#### Comparison\n",
    "\n",
    "1) show statistical comparison:\n",
    "- n of points that are different between each sensor and GS, or \n",
    "- consider only deep sleep, which is more accurete? and if we consider only REM?\n",
    "\n",
    "2) plot both sensors and the gold standard\n",
    "\n",
    "3) plot interesting comparisons between the datasets (try it out)\n",
    "\n",
    "4) prepare a pdf (send DM to Instructor) with your results (e.g., group A2, B2, and C2 send 1 pdf for this phase)"
   ]
  },
  {
   "cell_type": "code",
   "execution_count": 3,
   "metadata": {},
   "outputs": [],
   "source": [
    "# your code"
   ]
  },
  {
   "cell_type": "code",
   "execution_count": null,
   "metadata": {},
   "outputs": [],
   "source": []
  }
 ],
 "metadata": {
  "kernelspec": {
   "display_name": "Python 3",
   "language": "python",
   "name": "python3"
  },
  "language_info": {
   "codemirror_mode": {
    "name": "ipython",
    "version": 3
   },
   "file_extension": ".py",
   "mimetype": "text/x-python",
   "name": "python",
   "nbconvert_exporter": "python",
   "pygments_lexer": "ipython3",
   "version": "3.8.5"
  }
 },
 "nbformat": 4,
 "nbformat_minor": 1
}
