{
 "cells": [
  {
   "cell_type": "markdown",
   "metadata": {},
   "source": [
    "# Assignment 02\n",
    "\n",
    "This is the Text Processing project.\n",
    "\n",
    "See Canvas for its deadline. "
   ]
  },
  {
   "cell_type": "code",
   "execution_count": 1,
   "metadata": {},
   "outputs": [],
   "source": [
    "# import packages\n",
    "import numpy as np\n",
    "import pandas as pd\n",
    "from nltk.sentiment.vader import SentimentIntensityAnalyzer\n",
    "import requests\n",
    "import re\n",
    "from urllib.parse import urlparse\n",
    "import urllib.robotparser\n",
    "from bs4 import BeautifulSoup\n",
    "\n",
    "# This code checks the robots.txt file\n",
    "def canFetch(url):\n",
    "\n",
    "    parsed_uri = urlparse(url)\n",
    "    domain = '{uri.scheme}://{uri.netloc}/'.format(uri=parsed_uri)\n",
    "\n",
    "    rp = urllib.robotparser.RobotFileParser()\n",
    "    rp.set_url(domain + \"/robots.txt\")\n",
    "    try:\n",
    "        rp.read()\n",
    "        canFetchBool = rp.can_fetch(\"*\", url)\n",
    "    except:\n",
    "        canFetchBool = None\n",
    "    \n",
    "    return canFetchBool"
   ]
  },
  {
   "cell_type": "markdown",
   "metadata": {},
   "source": [
    "## Assignment 02 examples\n",
    "\n",
    "#### Example 0 of project for assignment 02: Text processing\n",
    "\n",
    "1) perform the analysis of data/ira.csv (similarly to what done in processing_text.ipynb, including most frequent words etc.)\n",
    "\n",
    "2) perform sentiment analysis on this dataset\n",
    "\n",
    "3) detail comments, explain step by step what is happening, and try to write down a paragraph or two at the end discussing what you figured out\n",
    "\n",
    "************\n",
    "#### Example 1 of project for assignment 02: Text processing\n",
    "\n",
    "1) Choose a short list of famous people (at least 2) that you want to compare and look for their Wikipedia page, e.g., \n",
    "urls = []\n",
    "urls.append(\"https://en.wikipedia.org/wiki/LeBron_James\")\n",
    "urls.append(\"https://en.wikipedia.org/wiki/Michael_Jordan\")\n",
    "urls.append(\"https://en.wikipedia.org/wiki/Karl_Malone\")\n",
    "\n",
    "2) think about an interesting question you can answer. E.g., \n",
    "- in which of the three pages the word \"record\" appears more often? (we know how to search!)\n",
    "- which is the most positive page? (we know how to do sentiment analysis!)\n",
    "- in which year was each player born? (more complicated, but we can do it)\n",
    "\n",
    "3) make sure you can web scrape each page\n",
    "\n",
    "4) write the code to web scrape and do your analysis\n",
    "\n",
    "5) prepare 1 (one) .ipynb , in which you have code, results and (most importantly) you describe what you are looking for and how you do it!\n",
    "\n",
    "************\n",
    "#### Example 2 of project for assignment 02: Text processing\n",
    "\n",
    "1) check the books you like from https://www.gutenberg.org/browse/scores/top\n",
    "\n",
    "2) you have an example in data/book1.txt ; choose 1 book (or a few of them)\n",
    "\n",
    "3) think about an interesting question you can answer. E.g., \n",
    "- which are the most common words? (we know how to do it!)\n",
    "- is there a particular word you have in mind? (easy to check)\n",
    "- how many different words do we have?\n",
    "\n",
    "4) can we download it automatically or better to do it manually? *CHECK BEFORE DOING IT!*\n",
    "- in case we can not do it automatically, let's respect it! we can download them manually and save them\n",
    "\n",
    "5) let's analyze the book, we have all the tools from the notebooks processing_text and RegularExpressions! \n"
   ]
  },
  {
   "cell_type": "markdown",
   "metadata": {},
   "source": [
    "# Project title: \n",
    "\n",
    "your comments / presentation\n"
   ]
  },
  {
   "cell_type": "code",
   "execution_count": null,
   "metadata": {},
   "outputs": [],
   "source": [
    "# your code"
   ]
  }
 ],
 "metadata": {
  "kernelspec": {
   "display_name": "Python 3",
   "language": "python",
   "name": "python3"
  },
  "language_info": {
   "codemirror_mode": {
    "name": "ipython",
    "version": 3
   },
   "file_extension": ".py",
   "mimetype": "text/x-python",
   "name": "python",
   "nbconvert_exporter": "python",
   "pygments_lexer": "ipython3",
   "version": "3.8.5"
  }
 },
 "nbformat": 4,
 "nbformat_minor": 1
}
